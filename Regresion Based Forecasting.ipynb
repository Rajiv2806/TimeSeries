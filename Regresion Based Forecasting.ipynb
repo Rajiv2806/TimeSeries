{
 "cells": [
  {
   "cell_type": "markdown",
   "id": "4e78e3ff-3073-4ba0-adaf-d5f11cfbb592",
   "metadata": {},
   "source": [
    "# Forecasting on Real-Time Hydrometric Data\n",
    "\n",
    "Forecasting Using Regression Techniques\n",
    "\n",
    "[Data Scource](https://wateroffice.ec.gc.ca/download/index_e.html?results_type=real_time)"
   ]
  },
  {
   "cell_type": "code",
   "execution_count": 1,
   "id": "3a9615b3-7587-4148-a961-7ebdd8d9fa46",
   "metadata": {},
   "outputs": [],
   "source": [
    "import warnings\n",
    "import numpy as np\n",
    "import pandas as pd\n",
    "import matplotlib.pyplot as plt\n",
    "\n",
    "from sklearn import set_config\n",
    "from sklearn.compose import ColumnTransformer\n",
    "from sklearn.preprocessing import MinMaxScaler\n",
    "\n",
    "from sklearn.pipeline import Pipeline\n",
    "from sklearn.model_selection import cross_val_score\n",
    "from sklearn.model_selection import train_test_split\n",
    "from sklearn.model_selection import RandomizedSearchCV\n",
    "\n",
    "from sklearn.linear_model import LinearRegression\n",
    "\n",
    "from sklearn.metrics import r2_score\n",
    "from sklearn.metrics import mean_absolute_error\n",
    "\n",
    "set_config(display=\"diagram\")\n",
    "warnings.filterwarnings('ignore')"
   ]
  },
  {
   "cell_type": "code",
   "execution_count": 2,
   "id": "f41c1cc6-5c41-4fe7-9c11-73a60fb6111a",
   "metadata": {},
   "outputs": [],
   "source": [
    "def df_info_func(df, vizualize=False, threshold=3, display_sample=True, side_by_side=True):\n",
    "    def f1(series):\n",
    "        try: return str(series.unique().tolist())\n",
    "        except: return '--'\n",
    "\n",
    "    print(f'Rows: {df.shape[0]} N Cols: {df.shape[1]}')\n",
    "\n",
    "    if df.shape[0] > 0:\n",
    "        df_info = pd.DataFrame(index=df.columns)\n",
    "        df_info['data_types'] = df.dtypes.values\n",
    "        df_info['n_missing'] = df.isna().sum().values    \n",
    "        df_info['missing_pct'] = round((df_info['n_missing'] / len(df))*100,2)\n",
    "\n",
    "        df_ = df.astype(str).copy()\n",
    "\n",
    "        df_info['n_unique'] = df_.apply(lambda x: x.nunique(),axis=0).values\n",
    "        df_info['uniq_vals'] = df_.apply(lambda x: np.where(x.nunique() <= threshold, f1(x), '--')).values\n",
    "\n",
    "        for c in df.columns:            \n",
    "            if df[c].dtype == 'datetime64[ns]':\n",
    "                dt_str = \"From: \" + df[c].min().strftime('%d-%b-%Y')\n",
    "                dt_str += \" Till: \" + df[c].max().strftime('%d-%b-%Y')\n",
    "                df_info.loc[c,'uniq_vals'] = dt_str                \n",
    "            elif df[c].dtype == 'float64' or  df[c].dtype == 'int64':\n",
    "                real_num_series = df[c].dropna()\n",
    "                if len(real_num_series) > 0:\n",
    "                    dt_str = \"Min: \" + str(int(real_num_series.min()))\n",
    "                    dt_str += \" Max: \" + str(int(real_num_series.max()))\n",
    "                    dt_str += \" Mean: \" + str(int(real_num_series.mean()))\n",
    "                    dt_str += \" Med: \" + str(int(real_num_series.median()))\n",
    "                    dt_str += \" Std: \" + str(int(real_num_series.std()))\n",
    "                else:\n",
    "                    dt_str = \"\"\n",
    "                df_info.loc[c,'uniq_vals'] = dt_str\n",
    "            else:\n",
    "                pass\n",
    "                \n",
    "        df_info.reset_index(inplace=True)\n",
    "        df_info.rename(columns={'index':'cols'},inplace=True)\n",
    "        if vizualize:\n",
    "            # import seaborn as sns\n",
    "            # sns.heatmap(df.isnull(), yticklabels=False, cbar=False, cmap='viridis')\n",
    "            # or an another package to display missing values graph\n",
    "            import missingno as msno \n",
    "            msno.matrix(df)\n",
    "\n",
    "        if side_by_side:\n",
    "            from IPython.display import display_html\n",
    "            space = \"\\xa0\" * 10\n",
    "            info_styler = df_info.style.set_table_attributes(\"style='display:inline'\").set_caption('DF Info')\n",
    "            df_styler = df.head().style.set_table_attributes(\"style='display:inline'\").set_caption('DF')\n",
    "            display_html(info_styler._repr_html_() + space + df_styler._repr_html_(),raw=True)            \n",
    "        else:\n",
    "            from IPython.core.display import HTML\n",
    "            display(HTML(df_info.to_html()))\n",
    "            if display_sample: display(HTML(df.head().to_html()))\n",
    "            \n",
    "    else:\n",
    "        print(\"Empty DataFrame\")\n",
    "        \n",
    "def convert_ts_df(ts_df, shifts = 10):\n",
    "    ts_df['year'] = ts_df.index.year\n",
    "    ts_df['month'] = ts_df.index.month\n",
    "    ts_df['day'] = ts_df.index.day\n",
    "    ts_df['hour'] = ts_df.index.hour\n",
    "    ts_df['minute'] = ts_df.index.minute\n",
    "    ts_df['week_num'] = ts_df.index.week\n",
    "    ts_df['week_day'] = ts_df.index.weekday\n",
    "    \n",
    "    diff_days = (ts_df.index - ts_df.reset_index().time.shift(1))\n",
    "    diff_mins = diff_days.dt.total_seconds() // 60\n",
    "    ts_df['prev_obs_min'] = diff_mins.tolist()  \n",
    "    \n",
    "    for i in range(1,shifts+1):\n",
    "        ts_df['prev_val_'+str(i)] = ts_df['value'].shift(i)\n",
    "    \n",
    "    return ts_df\n",
    "        \n",
    "mape = lambda tr, pr: np.mean(np.abs((tr - pr) / tr)) * 100"
   ]
  },
  {
   "cell_type": "markdown",
   "id": "7d4b042b-29e6-40a6-a29e-8cac155b89cb",
   "metadata": {},
   "source": [
    "# Data Import"
   ]
  },
  {
   "cell_type": "code",
   "execution_count": 3,
   "id": "b5b35f35-1790-43b2-9b2f-4b918bb1dc74",
   "metadata": {},
   "outputs": [],
   "source": [
    "df_org = pd.read_excel(\"datasets/WaterLevelData_Canada.xlsx\")"
   ]
  },
  {
   "cell_type": "markdown",
   "id": "170f97df-0cc4-40f6-955d-5b064bcd5ef5",
   "metadata": {},
   "source": [
    "# Data Cleaning"
   ]
  },
  {
   "cell_type": "code",
   "execution_count": 4,
   "id": "7091af7d-5c5f-4a5d-bc95-bffd8dd1b4b0",
   "metadata": {},
   "outputs": [
    {
     "name": "stdout",
     "output_type": "stream",
     "text": [
      "Rows: 149688 N Cols: 2\n"
     ]
    },
    {
     "data": {
      "text/html": [
       "<style  type=\"text/css\" >\n",
       "</style><table id=\"T_b5f58_\" style='display:inline'><caption>DF Info</caption><thead>    <tr>        <th class=\"blank level0\" ></th>        <th class=\"col_heading level0 col0\" >cols</th>        <th class=\"col_heading level0 col1\" >data_types</th>        <th class=\"col_heading level0 col2\" >n_missing</th>        <th class=\"col_heading level0 col3\" >missing_pct</th>        <th class=\"col_heading level0 col4\" >n_unique</th>        <th class=\"col_heading level0 col5\" >uniq_vals</th>    </tr></thead><tbody>\n",
       "                <tr>\n",
       "                        <th id=\"T_b5f58_level0_row0\" class=\"row_heading level0 row0\" >0</th>\n",
       "                        <td id=\"T_b5f58_row0_col0\" class=\"data row0 col0\" >time</td>\n",
       "                        <td id=\"T_b5f58_row0_col1\" class=\"data row0 col1\" >datetime64[ns]</td>\n",
       "                        <td id=\"T_b5f58_row0_col2\" class=\"data row0 col2\" >0</td>\n",
       "                        <td id=\"T_b5f58_row0_col3\" class=\"data row0 col3\" >0.000000</td>\n",
       "                        <td id=\"T_b5f58_row0_col4\" class=\"data row0 col4\" >149688</td>\n",
       "                        <td id=\"T_b5f58_row0_col5\" class=\"data row0 col5\" >From: 08-Jan-2020 Till: 01-Dec-2022</td>\n",
       "            </tr>\n",
       "            <tr>\n",
       "                        <th id=\"T_b5f58_level0_row1\" class=\"row_heading level0 row1\" >1</th>\n",
       "                        <td id=\"T_b5f58_row1_col0\" class=\"data row1 col0\" >value</td>\n",
       "                        <td id=\"T_b5f58_row1_col1\" class=\"data row1 col1\" >float64</td>\n",
       "                        <td id=\"T_b5f58_row1_col2\" class=\"data row1 col2\" >0</td>\n",
       "                        <td id=\"T_b5f58_row1_col3\" class=\"data row1 col3\" >0.000000</td>\n",
       "                        <td id=\"T_b5f58_row1_col4\" class=\"data row1 col4\" >434</td>\n",
       "                        <td id=\"T_b5f58_row1_col5\" class=\"data row1 col5\" >Min: 0 Max: 1 Mean: 0 Med: 0 Std: 0</td>\n",
       "            </tr>\n",
       "    </tbody></table>          <style  type=\"text/css\" >\n",
       "</style><table id=\"T_98957_\" style='display:inline'><caption>DF</caption><thead>    <tr>        <th class=\"blank level0\" ></th>        <th class=\"col_heading level0 col0\" >time</th>        <th class=\"col_heading level0 col1\" >value</th>    </tr></thead><tbody>\n",
       "                <tr>\n",
       "                        <th id=\"T_98957_level0_row0\" class=\"row_heading level0 row0\" >0</th>\n",
       "                        <td id=\"T_98957_row0_col0\" class=\"data row0 col0\" >2020-01-08 00:00:00</td>\n",
       "                        <td id=\"T_98957_row0_col1\" class=\"data row0 col1\" >0.984000</td>\n",
       "            </tr>\n",
       "            <tr>\n",
       "                        <th id=\"T_98957_level0_row1\" class=\"row_heading level0 row1\" >1</th>\n",
       "                        <td id=\"T_98957_row1_col0\" class=\"data row1 col0\" >2020-01-08 00:05:00</td>\n",
       "                        <td id=\"T_98957_row1_col1\" class=\"data row1 col1\" >0.984000</td>\n",
       "            </tr>\n",
       "            <tr>\n",
       "                        <th id=\"T_98957_level0_row2\" class=\"row_heading level0 row2\" >2</th>\n",
       "                        <td id=\"T_98957_row2_col0\" class=\"data row2 col0\" >2020-01-08 00:10:00</td>\n",
       "                        <td id=\"T_98957_row2_col1\" class=\"data row2 col1\" >0.984000</td>\n",
       "            </tr>\n",
       "            <tr>\n",
       "                        <th id=\"T_98957_level0_row3\" class=\"row_heading level0 row3\" >3</th>\n",
       "                        <td id=\"T_98957_row3_col0\" class=\"data row3 col0\" >2020-01-08 00:15:00</td>\n",
       "                        <td id=\"T_98957_row3_col1\" class=\"data row3 col1\" >0.985000</td>\n",
       "            </tr>\n",
       "            <tr>\n",
       "                        <th id=\"T_98957_level0_row4\" class=\"row_heading level0 row4\" >4</th>\n",
       "                        <td id=\"T_98957_row4_col0\" class=\"data row4 col0\" >2020-01-08 00:20:00</td>\n",
       "                        <td id=\"T_98957_row4_col1\" class=\"data row4 col1\" >0.985000</td>\n",
       "            </tr>\n",
       "    </tbody></table>"
      ]
     },
     "metadata": {},
     "output_type": "display_data"
    }
   ],
   "source": [
    "df = df_org.copy()\n",
    "df.drop(columns=['Parameter '], inplace=True)\n",
    "df.rename(columns={'Date (MST)':'time','Value (m)':'value'}, inplace=True)\n",
    "df['time'] = pd.to_datetime(df['time'])\n",
    "df.sort_values(by='time', inplace=True, ignore_index=True)\n",
    "df_info_func(df)"
   ]
  },
  {
   "cell_type": "code",
   "execution_count": 5,
   "id": "f0741dd3-56c1-4923-9952-0704eec68ce6",
   "metadata": {},
   "outputs": [
    {
     "data": {
      "text/html": [
       "<div>\n",
       "<style scoped>\n",
       "    .dataframe tbody tr th:only-of-type {\n",
       "        vertical-align: middle;\n",
       "    }\n",
       "\n",
       "    .dataframe tbody tr th {\n",
       "        vertical-align: top;\n",
       "    }\n",
       "\n",
       "    .dataframe thead th {\n",
       "        text-align: right;\n",
       "    }\n",
       "</style>\n",
       "<table border=\"1\" class=\"dataframe\">\n",
       "  <thead>\n",
       "    <tr style=\"text-align: right;\">\n",
       "      <th></th>\n",
       "      <th>time</th>\n",
       "      <th>value</th>\n",
       "    </tr>\n",
       "  </thead>\n",
       "  <tbody>\n",
       "    <tr>\n",
       "      <th>149683</th>\n",
       "      <td>2022-12-01 23:35:00</td>\n",
       "      <td>1.127</td>\n",
       "    </tr>\n",
       "    <tr>\n",
       "      <th>149684</th>\n",
       "      <td>2022-12-01 23:40:00</td>\n",
       "      <td>1.126</td>\n",
       "    </tr>\n",
       "    <tr>\n",
       "      <th>149685</th>\n",
       "      <td>2022-12-01 23:45:00</td>\n",
       "      <td>1.126</td>\n",
       "    </tr>\n",
       "    <tr>\n",
       "      <th>149686</th>\n",
       "      <td>2022-12-01 23:50:00</td>\n",
       "      <td>1.122</td>\n",
       "    </tr>\n",
       "    <tr>\n",
       "      <th>149687</th>\n",
       "      <td>2022-12-01 23:55:00</td>\n",
       "      <td>1.120</td>\n",
       "    </tr>\n",
       "  </tbody>\n",
       "</table>\n",
       "</div>"
      ],
      "text/plain": [
       "                      time  value\n",
       "149683 2022-12-01 23:35:00  1.127\n",
       "149684 2022-12-01 23:40:00  1.126\n",
       "149685 2022-12-01 23:45:00  1.126\n",
       "149686 2022-12-01 23:50:00  1.122\n",
       "149687 2022-12-01 23:55:00  1.120"
      ]
     },
     "execution_count": 5,
     "metadata": {},
     "output_type": "execute_result"
    }
   ],
   "source": [
    "df.tail()"
   ]
  },
  {
   "cell_type": "markdown",
   "id": "85d67f83-1e1e-4700-ba19-cc09e4f57666",
   "metadata": {},
   "source": [
    "some data is in future dates (Dec 22), might be a data quality problem.\n",
    "so, from the below EDA we can remove these data points."
   ]
  },
  {
   "cell_type": "code",
   "execution_count": null,
   "id": "1d2db93a-e2eb-4c67-a7b5-ce537d1353a6",
   "metadata": {},
   "outputs": [],
   "source": [
    "# See if we can infer time\n",
    "# Returns None as there is no temporal frequency\n",
    "pd.infer_freq(df.time)"
   ]
  },
  {
   "cell_type": "code",
   "execution_count": null,
   "id": "c086688e-d3df-41f9-b72b-d8c079507a42",
   "metadata": {},
   "outputs": [],
   "source": [
    "diff_days = (df.time - df.time.shift(1))\n",
    "diff_mins = diff_days.dt.total_seconds() // 60\n",
    "diff_mins.value_counts(normalize=True).head()"
   ]
  },
  {
   "cell_type": "markdown",
   "id": "8a71822a-c85b-4357-a50e-3b61a2c682e7",
   "metadata": {},
   "source": [
    "As almost 98% of data is with a 5 minute frequency we can generate a data range with this freq"
   ]
  },
  {
   "cell_type": "code",
   "execution_count": null,
   "id": "c5ca41f1-4bde-4b47-aeb9-890dda59d8e2",
   "metadata": {},
   "outputs": [],
   "source": [
    "df.set_index(keys='time', drop=True, inplace=True)\n",
    "df_info_func(df)"
   ]
  },
  {
   "cell_type": "code",
   "execution_count": null,
   "id": "b8967a5d-4cb7-4b98-abea-4e0451507813",
   "metadata": {},
   "outputs": [],
   "source": [
    "df_till_2021 = df.loc[:\"2021\"].copy()\n",
    "df.loc[\"2021-12-21 15:10:00\":].head()\n",
    "df.loc[\"2021-12-21 15:10:00\":].tail()\n",
    "df_till_2021.head()"
   ]
  },
  {
   "cell_type": "code",
   "execution_count": null,
   "id": "63cda030-8fd4-47da-9817-781646fd0862",
   "metadata": {},
   "outputs": [],
   "source": [
    "# so there are no any timestamps with 2 values\n",
    "# each 5 min had only one value and the rest are missing data where they are zeros\n",
    "# Almost 29% of the data is missing from this\n",
    "df_till_2021.resample('5min').count()['value'].value_counts(normalize=True)"
   ]
  },
  {
   "cell_type": "code",
   "execution_count": null,
   "id": "a0dbac25-6f03-4ccb-af0f-d5bee795c1a5",
   "metadata": {},
   "outputs": [],
   "source": [
    "df_2021 = df_till_2021.resample('5min',).mean()\n",
    "df_2021.head()"
   ]
  },
  {
   "cell_type": "markdown",
   "id": "9e3439df-e4c2-47e2-94ba-074527faeec3",
   "metadata": {},
   "source": [
    "# Visual Inspection"
   ]
  },
  {
   "cell_type": "code",
   "execution_count": null,
   "id": "2efa7758-8e32-478e-9d9b-f9614814e120",
   "metadata": {},
   "outputs": [],
   "source": [
    "plt.figure(figsize=(15,3))\n",
    "plt.plot(df_2021)\n",
    "plt.show();\n",
    "\n",
    "plt.figure(figsize=(15,3))\n",
    "plt.plot(df_2021.loc[\"2020\"])\n",
    "plt.plot(df_2021.loc[\"2021\"])\n",
    "plt.show();"
   ]
  },
  {
   "cell_type": "code",
   "execution_count": null,
   "id": "80e130ac-066a-4520-9a2b-05322e54ccd7",
   "metadata": {},
   "outputs": [],
   "source": [
    "years = df_2021.index.year.unique().tolist()\n",
    "\n",
    "fig, axes = plt.subplots(len(years), 1)\n",
    "for idx, yr in enumerate(years):    \n",
    "    axes[idx].plot(df_2021.loc[str(yr)])\n",
    "    axes[idx].set_title(f\"Year-{yr}\")    \n",
    "plt.show();"
   ]
  },
  {
   "cell_type": "code",
   "execution_count": null,
   "id": "3cf348b7-2137-4590-a033-082a8af8fb24",
   "metadata": {},
   "outputs": [],
   "source": [
    "years = df_2021.index.year.unique().tolist()\n",
    "months = range(1,13)\n",
    "\n",
    "fig, axes = plt.subplots(len(years), len(months), figsize=(15, 5))\n",
    "\n",
    "for idx_yr, yr in enumerate(years):\n",
    "    for idx_mn, mon in enumerate(months):\n",
    "        axes[idx_yr, idx_mn].plot(df_2021.loc[str(yr)+\"-\"+str(mon)].asfreq(\"5min\").fillna(0))\n",
    "        axes[idx_yr, idx_mn].set_title(f\"{yr}-{mon}\")\n",
    "        # axes[idx_yr, idx_mn].axis('off')\n",
    "        axes[idx_yr, idx_mn].get_xaxis().set_visible(False)\n",
    "\n",
    "plt.show();"
   ]
  },
  {
   "cell_type": "code",
   "execution_count": null,
   "id": "3a1675e4-ac31-43d9-8e4d-b082f5cbb5f4",
   "metadata": {},
   "outputs": [],
   "source": [
    "df_info_func(df_2021)"
   ]
  },
  {
   "cell_type": "code",
   "execution_count": null,
   "id": "5eefefe7-2456-4ba6-9ce4-1857ce4db9e4",
   "metadata": {},
   "outputs": [],
   "source": [
    "df_full = df_2021.dropna().copy()\n",
    "df_info_func(df_full)"
   ]
  },
  {
   "cell_type": "markdown",
   "id": "2265e67e-489e-4e5f-bb31-9567d51a6ee6",
   "metadata": {},
   "source": [
    "# Data Prep"
   ]
  },
  {
   "cell_type": "code",
   "execution_count": null,
   "id": "3f110608-d1a3-43f0-b88c-5e999c194a4e",
   "metadata": {},
   "outputs": [],
   "source": [
    "alfa = convert_ts_df(df_full)\n",
    "df_info_func(alfa)"
   ]
  },
  {
   "cell_type": "code",
   "execution_count": null,
   "id": "4e9fdff0-5feb-448f-b8eb-eed84f5939d3",
   "metadata": {},
   "outputs": [],
   "source": [
    "# Number of 5min intervals in 7 days\n",
    "max_clip_val = (60/5) * 24 * 7\n",
    "max_clip_val"
   ]
  },
  {
   "cell_type": "code",
   "execution_count": null,
   "id": "a0efbd95-f3ea-40a1-93a7-7aa3f76bfe4e",
   "metadata": {},
   "outputs": [],
   "source": [
    "alfa['prev_obs_min'] = alfa['prev_obs_min'].clip(0,max_clip_val)"
   ]
  },
  {
   "cell_type": "code",
   "execution_count": null,
   "id": "e29dfd8c-02c7-4f40-8883-6c94359edc92",
   "metadata": {},
   "outputs": [],
   "source": [
    "alfa.dropna(inplace=True)\n",
    "X = alfa.drop(columns=['value'])\n",
    "y = alfa['value']\n",
    "X.shape, y.shape"
   ]
  },
  {
   "cell_type": "markdown",
   "id": "e1b1992a-1467-4636-8a75-651bcf9e3afa",
   "metadata": {},
   "source": [
    "# Model Building"
   ]
  },
  {
   "cell_type": "markdown",
   "id": "92eceaa4-a90f-493a-b3a5-361734d92bda",
   "metadata": {},
   "source": [
    "## Data Split"
   ]
  },
  {
   "cell_type": "code",
   "execution_count": null,
   "id": "aa2506b4-ea3a-4be7-acc1-2111a5cd0cc5",
   "metadata": {},
   "outputs": [],
   "source": [
    "X_train, X_test, y_train, y_test = train_test_split(X,y,test_size=0.25)\n",
    "X_train.shape, X_test.shape, y_train.shape, y_test.shape"
   ]
  },
  {
   "cell_type": "markdown",
   "id": "f5835355-5b5a-4322-bf99-660c5007c6bf",
   "metadata": {},
   "source": [
    "## Building Data Preprocessing Pipeline and model Training"
   ]
  },
  {
   "cell_type": "code",
   "execution_count": null,
   "id": "bb2cd99a-db6b-4e24-96b4-885059b0bbdd",
   "metadata": {},
   "outputs": [],
   "source": [
    "preprocessor = ColumnTransformer(transformers=[(\"num\", MinMaxScaler(), X.columns),])\n",
    "model_pipe = Pipeline(steps=[(\"preprocessor\", preprocessor), (\"reg\", LinearRegression())])\n",
    "param_grid = {\"reg__fit_intercept\": [True, False],}\n",
    "model_grid = RandomizedSearchCV(model_pipe, param_grid, cv=10)\n",
    "model_grid.fit(X_train,y_train)\n",
    "model_grid"
   ]
  },
  {
   "cell_type": "code",
   "execution_count": null,
   "id": "1d771861-054f-400e-8951-e86f86313925",
   "metadata": {},
   "outputs": [],
   "source": [
    "model_grid.best_params_"
   ]
  },
  {
   "cell_type": "markdown",
   "id": "e4ae737c-291e-41c1-be76-12cea868dd35",
   "metadata": {},
   "source": [
    "## Evaluation"
   ]
  },
  {
   "cell_type": "code",
   "execution_count": null,
   "id": "1e9edf67-e610-4083-a4d2-ede2ec0239af",
   "metadata": {},
   "outputs": [],
   "source": [
    "print(f\"Internal CV score: {model_grid.best_score_:.3f}\")"
   ]
  },
  {
   "cell_type": "code",
   "execution_count": null,
   "id": "1a142aed-942e-47cd-b1e7-930665029cba",
   "metadata": {},
   "outputs": [],
   "source": [
    "cv_results = pd.DataFrame(model_grid.cv_results_)\n",
    "cv_results = cv_results.sort_values(\"mean_test_score\", ascending=False)\n",
    "cv_results[[\"rank_test_score\",\"mean_test_score\",\"std_test_score\",\"params\"]]"
   ]
  },
  {
   "cell_type": "code",
   "execution_count": null,
   "id": "835b26ff-50f0-4418-a841-81c5771ba85e",
   "metadata": {},
   "outputs": [],
   "source": [
    "print(\"Regression Model\",\"\\n\\n\")\n",
    "y_pred = model_grid.predict(X_test)\n",
    "errors = y_test - y_pred\n",
    "\n",
    "print(\"mean_absolute_error: \",mean_absolute_error(y_test, y_pred))\n",
    "print(\"mean_squared_error: \",mean_squared_error(y_test, y_pred))\n",
    "print(\"mape: \",mape(y_test, y_pred))\n",
    "print(\"r2_score: \",r2_score(y_test, y_pred))"
   ]
  },
  {
   "cell_type": "markdown",
   "id": "70995a16-6dc8-4c88-a7b8-3d754a48487c",
   "metadata": {},
   "source": [
    "### Compare our model with a base line"
   ]
  },
  {
   "cell_type": "code",
   "execution_count": null,
   "id": "45af5f03-755b-42fc-a5b9-e9d90ce87074",
   "metadata": {},
   "outputs": [],
   "source": [
    "print(\"Baseline Model\",\"\\n\\n\")\n",
    "y_baseline = y.mean()\n",
    "y_preds_baseline = [y_baseline]* len(y_test)\n",
    "\n",
    "print(\"BaseLine mean_absolute_error: \",mean_absolute_error(y_test, y_preds_baseline))\n",
    "print(\"BaseLine mean_squared_error: \",mean_squared_error(y_test, y_preds_baseline))\n",
    "print(\"BaseLine mape: \",mape(y_test, y_preds_baseline))\n",
    "print(\"BaseLine r2_score: \",r2_score(y_test, y_preds_baseline))"
   ]
  },
  {
   "cell_type": "markdown",
   "id": "a97f5689-42dd-4996-8da2-7ee5588ed40e",
   "metadata": {},
   "source": [
    "### Viz of results"
   ]
  },
  {
   "cell_type": "code",
   "execution_count": null,
   "id": "10c10e98-7f56-4a79-8437-dd0067313b1c",
   "metadata": {},
   "outputs": [],
   "source": [
    "plt.scatter(y_test, y_pred)\n",
    "plt.show();\n",
    "plt.boxplot(errors, vert=False)\n",
    "plt.show();"
   ]
  },
  {
   "cell_type": "markdown",
   "id": "e64cc4ae-f52f-42c5-a8a2-80d8a5be87f6",
   "metadata": {},
   "source": [
    "## Feature Importances (based on Linear Regression model)"
   ]
  },
  {
   "cell_type": "code",
   "execution_count": null,
   "id": "5b3d5e93-3dbc-4ff3-b7b8-fdbfbc17bffe",
   "metadata": {},
   "outputs": [],
   "source": [
    "feat_imp_scores = model_grid.best_estimator_.named_steps['reg'].coef_\n",
    "plt.barh(X.columns, feat_imp_scores)"
   ]
  },
  {
   "cell_type": "code",
   "execution_count": null,
   "id": "66c497ac-1992-4009-aa22-1e9326b38e11",
   "metadata": {},
   "outputs": [],
   "source": [
    "%matplotlib inline\n",
    "print(X_test.prev_obs_min.unique())\n",
    "plt.scatter(X_test.prev_obs_min, errors)\n",
    "plt.xlim(0,75)\n",
    "plt.show();"
   ]
  },
  {
   "cell_type": "markdown",
   "id": "3ede6801-8378-4a40-a736-176591e16066",
   "metadata": {},
   "source": [
    "# Future Predictions\n",
    "\n",
    "Do an one step ahead forecasting. for next 7 days. "
   ]
  },
  {
   "cell_type": "code",
   "execution_count": null,
   "id": "196c62ff-d562-4654-aef6-b63785314c09",
   "metadata": {},
   "outputs": [],
   "source": [
    "start_time = alfa.index.max() + pd.Timedelta(\"5min\")\n",
    "start_time"
   ]
  },
  {
   "cell_type": "code",
   "execution_count": null,
   "id": "7b5d213e-c669-443d-9016-9ef0210f2328",
   "metadata": {},
   "outputs": [],
   "source": [
    "alfa.head(1)"
   ]
  },
  {
   "cell_type": "code",
   "execution_count": null,
   "id": "1200bd43-1d46-4981-a1a9-8a44add398de",
   "metadata": {},
   "outputs": [],
   "source": [
    "pred_range = pd.date_range(start_time , freq='5min', periods=max_clip_val)\n",
    "beta = pd.DataFrame(index=pred_range)\n",
    "beta['year'] = beta.index.year\n",
    "beta['month'] = beta.index.month\n",
    "beta['day'] = beta.index.day\n",
    "beta['hour'] = beta.index.hour\n",
    "beta['minute'] = beta.index.minute\n",
    "beta['week_num'] = beta.index.week\n",
    "beta['week_day'] = beta.index.weekday\n",
    "diff_days = beta.index - alfa.index.max()\n",
    "diff_mins = diff_days.total_seconds() // 60\n",
    "beta['prev_obs_min'] = diff_mins\n",
    "\n",
    "beta['prev_obs_min'] = beta['prev_obs_min'].clip(0,max_clip_val)\n",
    "\n",
    "prev_vals = alfa.loc[alfa.index.max()]\n",
    "for i in range(1,11):\n",
    "    beta['prev_val_'+str(i)] = prev_vals['prev_val_'+str(i)]    \n",
    "beta.head()"
   ]
  },
  {
   "cell_type": "code",
   "execution_count": null,
   "id": "b8ca02f8-e99b-45c7-8611-6bd2176b6850",
   "metadata": {},
   "outputs": [],
   "source": [
    "future_pred_vals = model_grid.predict(beta)\n",
    "beta['future_pred_vals'] = future_pred_vals\n",
    "beta.head(2)"
   ]
  },
  {
   "cell_type": "code",
   "execution_count": null,
   "id": "b9a4b3d8-bd9b-41c9-911b-28978cea0a6e",
   "metadata": {},
   "outputs": [],
   "source": [
    "plt.plot(beta.index,future_pred_vals);"
   ]
  },
  {
   "cell_type": "markdown",
   "id": "c465788d-40e7-489a-bf8f-e8a92ea7040a",
   "metadata": {},
   "source": [
    "# Next Steps:\n",
    "* Design Schema for DB\n",
    "* Push Prediction to DB\n",
    "* Build API\n",
    "* Deploy in instance\n",
    "* Testing\n",
    "\n",
    "### Secondary Items:\n",
    "* convert to Py scripts\n",
    "* object oriented / reusable scripts\n",
    "* Integrate multiple sensors logic\n",
    "* Re-training schedule"
   ]
  }
 ],
 "metadata": {
  "kernelspec": {
   "display_name": "Python 3",
   "language": "python",
   "name": "python3"
  },
  "language_info": {
   "codemirror_mode": {
    "name": "ipython",
    "version": 3
   },
   "file_extension": ".py",
   "mimetype": "text/x-python",
   "name": "python",
   "nbconvert_exporter": "python",
   "pygments_lexer": "ipython3",
   "version": "3.8.8"
  }
 },
 "nbformat": 4,
 "nbformat_minor": 5
}
