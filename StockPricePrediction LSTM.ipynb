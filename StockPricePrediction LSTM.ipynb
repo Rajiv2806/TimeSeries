{
 "cells": [
  {
   "cell_type": "markdown",
   "id": "3570c214-8fd2-4914-9e2c-3f864c625ff5",
   "metadata": {},
   "source": [
    "# Stock Price / BitCoin / Crypto Currency Prediction Using LSTM"
   ]
  },
  {
   "cell_type": "markdown",
   "id": "42cc7cee-48f5-4623-a727-3b410217a1e4",
   "metadata": {},
   "source": [
    "Agenda\n",
    "\n",
    "1. Collect stock market data\n",
    "2. Preprocess & Split \n",
    "3. Create a LSTM model & Train\n",
    "4. Predict & Plot & Evaluate\n",
    "5. Predict Future."
   ]
  },
  {
   "cell_type": "code",
   "execution_count": null,
   "id": "0d20a3df-9c19-4a6e-b485-04dd1a28d2f8",
   "metadata": {},
   "outputs": [],
   "source": [
    "# !pip install yfinance"
   ]
  },
  {
   "cell_type": "code",
   "execution_count": 406,
   "id": "d106166d-5d33-4b11-89b3-691b2dd057fc",
   "metadata": {},
   "outputs": [
    {
     "name": "stdout",
     "output_type": "stream",
     "text": [
      "2.7.0\n"
     ]
    }
   ],
   "source": [
    "import datetime\n",
    "import numpy as np\n",
    "import pandas as pd\n",
    "\n",
    "import yfinance as yf\n",
    "import matplotlib.pyplot as plt\n",
    "\n",
    "import tensorflow as tf\n",
    "\n",
    "from tensorflow.keras.models import Sequential\n",
    "from tensorflow.keras.layers import Dense, LSTM, Dropout\n",
    "\n",
    "import math\n",
    "from sklearn.metrics import mean_squared_error, mean_absolute_error\n",
    "\n",
    "import numpy as np\n",
    "from sklearn.preprocessing import MinMaxScaler, StandardScaler\n",
    "\n",
    "%matplotlib inline\n",
    "print(tf.__version__)"
   ]
  },
  {
   "cell_type": "code",
   "execution_count": 524,
   "id": "7a109f43-11ed-41aa-9a87-9b01357d0419",
   "metadata": {},
   "outputs": [],
   "source": [
    "# Set the start and end date\n",
    "start_date = '2010-01-01'\n",
    "end_date = '2022-01-23'\n",
    "\n",
    "# Set the ticker\n",
    "# Bitcoin USD (BTC-USD)\n",
    "# Ethereum USD (ETH-USD)\n",
    "# State Bank of India: 'SBIN.NS'\n",
    "# Thoughtworks: TWKS\n",
    "# Khaitan Chem & Fert Ltd - KHAICHEM.NS\n",
    "\n",
    "ticker = 'ETH-USD'"
   ]
  },
  {
   "cell_type": "code",
   "execution_count": 525,
   "id": "07c9771f-2184-4f09-bf51-abdd4a288761",
   "metadata": {},
   "outputs": [
    {
     "name": "stdout",
     "output_type": "stream",
     "text": [
      "[*********************100%***********************]  1 of 1 completed\n"
     ]
    },
    {
     "data": {
      "text/html": [
       "<div>\n",
       "<style scoped>\n",
       "    .dataframe tbody tr th:only-of-type {\n",
       "        vertical-align: middle;\n",
       "    }\n",
       "\n",
       "    .dataframe tbody tr th {\n",
       "        vertical-align: top;\n",
       "    }\n",
       "\n",
       "    .dataframe thead th {\n",
       "        text-align: right;\n",
       "    }\n",
       "</style>\n",
       "<table border=\"1\" class=\"dataframe\">\n",
       "  <thead>\n",
       "    <tr style=\"text-align: right;\">\n",
       "      <th></th>\n",
       "      <th>Open</th>\n",
       "      <th>High</th>\n",
       "      <th>Low</th>\n",
       "      <th>Close</th>\n",
       "      <th>Adj Close</th>\n",
       "      <th>Volume</th>\n",
       "    </tr>\n",
       "    <tr>\n",
       "      <th>Date</th>\n",
       "      <th></th>\n",
       "      <th></th>\n",
       "      <th></th>\n",
       "      <th></th>\n",
       "      <th></th>\n",
       "      <th></th>\n",
       "    </tr>\n",
       "  </thead>\n",
       "  <tbody>\n",
       "    <tr>\n",
       "      <th>2017-11-09</th>\n",
       "      <td>308.644989</td>\n",
       "      <td>329.451996</td>\n",
       "      <td>307.056000</td>\n",
       "      <td>320.884003</td>\n",
       "      <td>320.884003</td>\n",
       "      <td>893249984</td>\n",
       "    </tr>\n",
       "    <tr>\n",
       "      <th>2017-11-10</th>\n",
       "      <td>320.670990</td>\n",
       "      <td>324.717987</td>\n",
       "      <td>294.541992</td>\n",
       "      <td>299.252991</td>\n",
       "      <td>299.252991</td>\n",
       "      <td>885985984</td>\n",
       "    </tr>\n",
       "    <tr>\n",
       "      <th>2017-11-11</th>\n",
       "      <td>298.585999</td>\n",
       "      <td>319.453003</td>\n",
       "      <td>298.191986</td>\n",
       "      <td>314.681000</td>\n",
       "      <td>314.681000</td>\n",
       "      <td>842300992</td>\n",
       "    </tr>\n",
       "    <tr>\n",
       "      <th>2022-01-20</th>\n",
       "      <td>3095.271729</td>\n",
       "      <td>3265.336914</td>\n",
       "      <td>3000.908203</td>\n",
       "      <td>3001.120117</td>\n",
       "      <td>3001.120117</td>\n",
       "      <td>10645922764</td>\n",
       "    </tr>\n",
       "    <tr>\n",
       "      <th>2022-01-21</th>\n",
       "      <td>3002.956787</td>\n",
       "      <td>3029.081055</td>\n",
       "      <td>2496.812988</td>\n",
       "      <td>2557.931641</td>\n",
       "      <td>2557.931641</td>\n",
       "      <td>26796291874</td>\n",
       "    </tr>\n",
       "    <tr>\n",
       "      <th>2022-01-22</th>\n",
       "      <td>2595.788574</td>\n",
       "      <td>2612.926025</td>\n",
       "      <td>2330.247314</td>\n",
       "      <td>2365.637695</td>\n",
       "      <td>2365.637695</td>\n",
       "      <td>30457088000</td>\n",
       "    </tr>\n",
       "  </tbody>\n",
       "</table>\n",
       "</div>"
      ],
      "text/plain": [
       "                   Open         High          Low        Close    Adj Close  \\\n",
       "Date                                                                          \n",
       "2017-11-09   308.644989   329.451996   307.056000   320.884003   320.884003   \n",
       "2017-11-10   320.670990   324.717987   294.541992   299.252991   299.252991   \n",
       "2017-11-11   298.585999   319.453003   298.191986   314.681000   314.681000   \n",
       "2022-01-20  3095.271729  3265.336914  3000.908203  3001.120117  3001.120117   \n",
       "2022-01-21  3002.956787  3029.081055  2496.812988  2557.931641  2557.931641   \n",
       "2022-01-22  2595.788574  2612.926025  2330.247314  2365.637695  2365.637695   \n",
       "\n",
       "                 Volume  \n",
       "Date                     \n",
       "2017-11-09    893249984  \n",
       "2017-11-10    885985984  \n",
       "2017-11-11    842300992  \n",
       "2022-01-20  10645922764  \n",
       "2022-01-21  26796291874  \n",
       "2022-01-22  30457088000  "
      ]
     },
     "execution_count": 525,
     "metadata": {},
     "output_type": "execute_result"
    }
   ],
   "source": [
    "# Get the data\n",
    "data = yf.download(ticker, start_date, end_date)\n",
    "n = 3\n",
    "data.head(n).append(data.tail(n))"
   ]
  },
  {
   "cell_type": "code",
   "execution_count": 526,
   "id": "a7d49801-7eaa-42bd-a50d-0b1b257544d4",
   "metadata": {},
   "outputs": [
    {
     "data": {
      "application/vnd.jupyter.widget-view+json": {
       "model_id": "e0e790e1c0d44db9ae302712a7242d2c",
       "version_major": 2,
       "version_minor": 0
      },
      "image/png": "[encoded data removed]",
      "text/html": [
       "\n",
       "            <div style=\"display: inline-block;\">\n",
       "                <div class=\"jupyter-widgets widget-label\" style=\"text-align: center;\">\n",
       "                    Figure\n",
       "                </div>\n",
       "                <img src='data:image/png;base64,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' width=432.0/>\n",
       "            </div>\n",
       "        "
      ],
      "text/plain": [
       "Canvas(toolbar=Toolbar(toolitems=[('Home', 'Reset original view', 'home', 'home'), ('Back', 'Back to previous …"
      ]
     },
     "metadata": {},
     "output_type": "display_data"
    }
   ],
   "source": [
    "# Plot adjusted close price data\n",
    "%matplotlib widget\n",
    "data['Close'].plot()\n",
    "plt.show()"
   ]
  },
  {
   "cell_type": "code",
   "execution_count": 527,
   "id": "3e2a6061-10a8-4008-a535-191f25fde6ee",
   "metadata": {},
   "outputs": [],
   "source": [
    "file_path = f'datasets/stock_{ticker}.csv'\n",
    "data.to_csv(file_path)"
   ]
  },
  {
   "cell_type": "markdown",
   "id": "8d6fc1fc-2809-411f-a41d-c784563d2637",
   "metadata": {},
   "source": [
    "# Load the Stock data"
   ]
  },
  {
   "cell_type": "code",
   "execution_count": 528,
   "id": "8537700d-c1d0-4c7e-928e-108777480aea",
   "metadata": {},
   "outputs": [
    {
     "data": {
      "text/html": [
       "<div>\n",
       "<style scoped>\n",
       "    .dataframe tbody tr th:only-of-type {\n",
       "        vertical-align: middle;\n",
       "    }\n",
       "\n",
       "    .dataframe tbody tr th {\n",
       "        vertical-align: top;\n",
       "    }\n",
       "\n",
       "    .dataframe thead th {\n",
       "        text-align: right;\n",
       "    }\n",
       "</style>\n",
       "<table border=\"1\" class=\"dataframe\">\n",
       "  <thead>\n",
       "    <tr style=\"text-align: right;\">\n",
       "      <th></th>\n",
       "      <th>Open</th>\n",
       "      <th>High</th>\n",
       "      <th>Low</th>\n",
       "      <th>Close</th>\n",
       "      <th>Adj Close</th>\n",
       "      <th>Volume</th>\n",
       "    </tr>\n",
       "    <tr>\n",
       "      <th>Date</th>\n",
       "      <th></th>\n",
       "      <th></th>\n",
       "      <th></th>\n",
       "      <th></th>\n",
       "      <th></th>\n",
       "      <th></th>\n",
       "    </tr>\n",
       "  </thead>\n",
       "  <tbody>\n",
       "    <tr>\n",
       "      <th>2017-11-09</th>\n",
       "      <td>308.644989</td>\n",
       "      <td>329.451996</td>\n",
       "      <td>307.056000</td>\n",
       "      <td>320.884003</td>\n",
       "      <td>320.884003</td>\n",
       "      <td>893249984</td>\n",
       "    </tr>\n",
       "    <tr>\n",
       "      <th>2017-11-10</th>\n",
       "      <td>320.670990</td>\n",
       "      <td>324.717987</td>\n",
       "      <td>294.541992</td>\n",
       "      <td>299.252991</td>\n",
       "      <td>299.252991</td>\n",
       "      <td>885985984</td>\n",
       "    </tr>\n",
       "    <tr>\n",
       "      <th>2017-11-11</th>\n",
       "      <td>298.585999</td>\n",
       "      <td>319.453003</td>\n",
       "      <td>298.191986</td>\n",
       "      <td>314.681000</td>\n",
       "      <td>314.681000</td>\n",
       "      <td>842300992</td>\n",
       "    </tr>\n",
       "    <tr>\n",
       "      <th>2017-11-12</th>\n",
       "      <td>314.690002</td>\n",
       "      <td>319.153015</td>\n",
       "      <td>298.513000</td>\n",
       "      <td>307.907990</td>\n",
       "      <td>307.907990</td>\n",
       "      <td>1613479936</td>\n",
       "    </tr>\n",
       "    <tr>\n",
       "      <th>2017-11-13</th>\n",
       "      <td>307.024994</td>\n",
       "      <td>328.415009</td>\n",
       "      <td>307.024994</td>\n",
       "      <td>316.716003</td>\n",
       "      <td>316.716003</td>\n",
       "      <td>1041889984</td>\n",
       "    </tr>\n",
       "  </tbody>\n",
       "</table>\n",
       "</div>"
      ],
      "text/plain": [
       "                  Open        High         Low       Close   Adj Close  \\\n",
       "Date                                                                     \n",
       "2017-11-09  308.644989  329.451996  307.056000  320.884003  320.884003   \n",
       "2017-11-10  320.670990  324.717987  294.541992  299.252991  299.252991   \n",
       "2017-11-11  298.585999  319.453003  298.191986  314.681000  314.681000   \n",
       "2017-11-12  314.690002  319.153015  298.513000  307.907990  307.907990   \n",
       "2017-11-13  307.024994  328.415009  307.024994  316.716003  316.716003   \n",
       "\n",
       "                Volume  \n",
       "Date                    \n",
       "2017-11-09   893249984  \n",
       "2017-11-10   885985984  \n",
       "2017-11-11   842300992  \n",
       "2017-11-12  1613479936  \n",
       "2017-11-13  1041889984  "
      ]
     },
     "execution_count": 528,
     "metadata": {},
     "output_type": "execute_result"
    }
   ],
   "source": [
    "data = pd.read_csv(file_path,index_col='Date')\n",
    "data.head()"
   ]
  },
  {
   "cell_type": "code",
   "execution_count": 529,
   "id": "11f69cc3-b913-4780-b981-31ec6f048abd",
   "metadata": {},
   "outputs": [
    {
     "data": {
      "text/html": [
       "<div>\n",
       "<style scoped>\n",
       "    .dataframe tbody tr th:only-of-type {\n",
       "        vertical-align: middle;\n",
       "    }\n",
       "\n",
       "    .dataframe tbody tr th {\n",
       "        vertical-align: top;\n",
       "    }\n",
       "\n",
       "    .dataframe thead th {\n",
       "        text-align: right;\n",
       "    }\n",
       "</style>\n",
       "<table border=\"1\" class=\"dataframe\">\n",
       "  <thead>\n",
       "    <tr style=\"text-align: right;\">\n",
       "      <th></th>\n",
       "      <th>Close</th>\n",
       "    </tr>\n",
       "    <tr>\n",
       "      <th>Date</th>\n",
       "      <th></th>\n",
       "    </tr>\n",
       "  </thead>\n",
       "  <tbody>\n",
       "    <tr>\n",
       "      <th>2017-11-09</th>\n",
       "      <td>320.884003</td>\n",
       "    </tr>\n",
       "    <tr>\n",
       "      <th>2017-11-10</th>\n",
       "      <td>299.252991</td>\n",
       "    </tr>\n",
       "    <tr>\n",
       "      <th>2017-11-11</th>\n",
       "      <td>314.681000</td>\n",
       "    </tr>\n",
       "    <tr>\n",
       "      <th>2022-01-20</th>\n",
       "      <td>3001.120117</td>\n",
       "    </tr>\n",
       "    <tr>\n",
       "      <th>2022-01-21</th>\n",
       "      <td>2557.931641</td>\n",
       "    </tr>\n",
       "    <tr>\n",
       "      <th>2022-01-22</th>\n",
       "      <td>2365.637695</td>\n",
       "    </tr>\n",
       "  </tbody>\n",
       "</table>\n",
       "</div>"
      ],
      "text/plain": [
       "                  Close\n",
       "Date                   \n",
       "2017-11-09   320.884003\n",
       "2017-11-10   299.252991\n",
       "2017-11-11   314.681000\n",
       "2022-01-20  3001.120117\n",
       "2022-01-21  2557.931641\n",
       "2022-01-22  2365.637695"
      ]
     },
     "execution_count": 529,
     "metadata": {},
     "output_type": "execute_result"
    }
   ],
   "source": [
    "close_price = data[['Close']]\n",
    "close_price.head(n).append(close_price.tail(n))"
   ]
  },
  {
   "cell_type": "code",
   "execution_count": 530,
   "id": "b3702191-fd48-4716-8cd8-3da15dcfd9e7",
   "metadata": {},
   "outputs": [
    {
     "data": {
      "application/vnd.jupyter.widget-view+json": {
       "model_id": "7ff835d4b0274758b02e66ac601e4c37",
       "version_major": 2,
       "version_minor": 0
      },
      "image/png": "[encoded data removed]",
      "text/html": [
       "\n",
       "            <div style=\"display: inline-block;\">\n",
       "                <div class=\"jupyter-widgets widget-label\" style=\"text-align: center;\">\n",
       "                    Figure\n",
       "                </div>\n",
       "                <img src='data:image/png;base64,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' width=432.0/>\n",
       "            </div>\n",
       "        "
      ],
      "text/plain": [
       "Canvas(toolbar=Toolbar(toolitems=[('Home', 'Reset original view', 'home', 'home'), ('Back', 'Back to previous …"
      ]
     },
     "metadata": {},
     "output_type": "display_data"
    }
   ],
   "source": [
    "%matplotlib widget\n",
    "# plt.figure(figsize=(15,5))\n",
    "plt.plot(close_price);"
   ]
  },
  {
   "cell_type": "markdown",
   "id": "896c05b9-0dc4-4573-a1b9-6d9aeb8c82e5",
   "metadata": {},
   "source": [
    "# NN's are sensitive to scale of the data. So we apply Data Scaling"
   ]
  },
  {
   "cell_type": "code",
   "execution_count": 531,
   "id": "cab7809e-0f75-4f15-8109-37813bb84f9a",
   "metadata": {},
   "outputs": [
    {
     "name": "stdout",
     "output_type": "stream",
     "text": [
      "(1536, 1)\n",
      "<class 'numpy.ndarray'>\n"
     ]
    }
   ],
   "source": [
    "# scaler = MinMaxScaler(feature_range=(0,1))\n",
    "scaler = StandardScaler()\n",
    "df1 = scaler.fit_transform(close_price)\n",
    "print(df1.shape)\n",
    "print(type(df1))"
   ]
  },
  {
   "cell_type": "code",
   "execution_count": 532,
   "id": "b5675831-9f8e-48b8-a56f-4d15d7d74ea4",
   "metadata": {},
   "outputs": [
    {
     "data": {
      "text/html": [
       "<div>\n",
       "<style scoped>\n",
       "    .dataframe tbody tr th:only-of-type {\n",
       "        vertical-align: middle;\n",
       "    }\n",
       "\n",
       "    .dataframe tbody tr th {\n",
       "        vertical-align: top;\n",
       "    }\n",
       "\n",
       "    .dataframe thead th {\n",
       "        text-align: right;\n",
       "    }\n",
       "</style>\n",
       "<table border=\"1\" class=\"dataframe\">\n",
       "  <thead>\n",
       "    <tr style=\"text-align: right;\">\n",
       "      <th></th>\n",
       "      <th>0</th>\n",
       "    </tr>\n",
       "    <tr>\n",
       "      <th>Date</th>\n",
       "      <th></th>\n",
       "    </tr>\n",
       "  </thead>\n",
       "  <tbody>\n",
       "    <tr>\n",
       "      <th>2017-11-09</th>\n",
       "      <td>-0.528881</td>\n",
       "    </tr>\n",
       "    <tr>\n",
       "      <th>2017-11-10</th>\n",
       "      <td>-0.546873</td>\n",
       "    </tr>\n",
       "    <tr>\n",
       "      <th>2022-01-21</th>\n",
       "      <td>1.331753</td>\n",
       "    </tr>\n",
       "    <tr>\n",
       "      <th>2022-01-22</th>\n",
       "      <td>1.171815</td>\n",
       "    </tr>\n",
       "  </tbody>\n",
       "</table>\n",
       "</div>"
      ],
      "text/plain": [
       "                   0\n",
       "Date                \n",
       "2017-11-09 -0.528881\n",
       "2017-11-10 -0.546873\n",
       "2022-01-21  1.331753\n",
       "2022-01-22  1.171815"
      ]
     },
     "execution_count": 532,
     "metadata": {},
     "output_type": "execute_result"
    }
   ],
   "source": [
    "df1 = pd.DataFrame(df1, index=close_price.index)\n",
    "df1.head(2).append(df1.tail(2))"
   ]
  },
  {
   "cell_type": "markdown",
   "id": "99c31c6a-75f6-4548-a295-8d098dffae7a",
   "metadata": {},
   "source": [
    "# Data Preparation - Shifts"
   ]
  },
  {
   "cell_type": "code",
   "execution_count": 547,
   "id": "e9065647-a75d-40de-b646-5ffef155fa4b",
   "metadata": {},
   "outputs": [
    {
     "data": {
      "text/html": [
       "<div>\n",
       "<style scoped>\n",
       "    .dataframe tbody tr th:only-of-type {\n",
       "        vertical-align: middle;\n",
       "    }\n",
       "\n",
       "    .dataframe tbody tr th {\n",
       "        vertical-align: top;\n",
       "    }\n",
       "\n",
       "    .dataframe thead th {\n",
       "        text-align: right;\n",
       "    }\n",
       "</style>\n",
       "<table border=\"1\" class=\"dataframe\">\n",
       "  <thead>\n",
       "    <tr style=\"text-align: right;\">\n",
       "      <th></th>\n",
       "      <th>0</th>\n",
       "      <th>shift_1</th>\n",
       "      <th>shift_2</th>\n",
       "      <th>shift_3</th>\n",
       "      <th>shift_4</th>\n",
       "      <th>shift_5</th>\n",
       "      <th>shift_6</th>\n",
       "      <th>shift_7</th>\n",
       "      <th>shift_8</th>\n",
       "      <th>shift_9</th>\n",
       "      <th>...</th>\n",
       "      <th>shift_66</th>\n",
       "      <th>shift_67</th>\n",
       "      <th>shift_68</th>\n",
       "      <th>shift_69</th>\n",
       "      <th>shift_70</th>\n",
       "      <th>shift_71</th>\n",
       "      <th>shift_72</th>\n",
       "      <th>shift_73</th>\n",
       "      <th>shift_74</th>\n",
       "      <th>shift_75</th>\n",
       "    </tr>\n",
       "    <tr>\n",
       "      <th>Date</th>\n",
       "      <th></th>\n",
       "      <th></th>\n",
       "      <th></th>\n",
       "      <th></th>\n",
       "      <th></th>\n",
       "      <th></th>\n",
       "      <th></th>\n",
       "      <th></th>\n",
       "      <th></th>\n",
       "      <th></th>\n",
       "      <th></th>\n",
       "      <th></th>\n",
       "      <th></th>\n",
       "      <th></th>\n",
       "      <th></th>\n",
       "      <th></th>\n",
       "      <th></th>\n",
       "      <th></th>\n",
       "      <th></th>\n",
       "      <th></th>\n",
       "      <th></th>\n",
       "    </tr>\n",
       "  </thead>\n",
       "  <tbody>\n",
       "    <tr>\n",
       "      <th>2017-11-09</th>\n",
       "      <td>-0.528881</td>\n",
       "      <td>NaN</td>\n",
       "      <td>NaN</td>\n",
       "      <td>NaN</td>\n",
       "      <td>NaN</td>\n",
       "      <td>NaN</td>\n",
       "      <td>NaN</td>\n",
       "      <td>NaN</td>\n",
       "      <td>NaN</td>\n",
       "      <td>NaN</td>\n",
       "      <td>...</td>\n",
       "      <td>NaN</td>\n",
       "      <td>NaN</td>\n",
       "      <td>NaN</td>\n",
       "      <td>NaN</td>\n",
       "      <td>NaN</td>\n",
       "      <td>NaN</td>\n",
       "      <td>NaN</td>\n",
       "      <td>NaN</td>\n",
       "      <td>NaN</td>\n",
       "      <td>NaN</td>\n",
       "    </tr>\n",
       "    <tr>\n",
       "      <th>2017-11-10</th>\n",
       "      <td>-0.546873</td>\n",
       "      <td>-0.528881</td>\n",
       "      <td>NaN</td>\n",
       "      <td>NaN</td>\n",
       "      <td>NaN</td>\n",
       "      <td>NaN</td>\n",
       "      <td>NaN</td>\n",
       "      <td>NaN</td>\n",
       "      <td>NaN</td>\n",
       "      <td>NaN</td>\n",
       "      <td>...</td>\n",
       "      <td>NaN</td>\n",
       "      <td>NaN</td>\n",
       "      <td>NaN</td>\n",
       "      <td>NaN</td>\n",
       "      <td>NaN</td>\n",
       "      <td>NaN</td>\n",
       "      <td>NaN</td>\n",
       "      <td>NaN</td>\n",
       "      <td>NaN</td>\n",
       "      <td>NaN</td>\n",
       "    </tr>\n",
       "    <tr>\n",
       "      <th>2017-11-11</th>\n",
       "      <td>-0.534041</td>\n",
       "      <td>-0.546873</td>\n",
       "      <td>-0.528881</td>\n",
       "      <td>NaN</td>\n",
       "      <td>NaN</td>\n",
       "      <td>NaN</td>\n",
       "      <td>NaN</td>\n",
       "      <td>NaN</td>\n",
       "      <td>NaN</td>\n",
       "      <td>NaN</td>\n",
       "      <td>...</td>\n",
       "      <td>NaN</td>\n",
       "      <td>NaN</td>\n",
       "      <td>NaN</td>\n",
       "      <td>NaN</td>\n",
       "      <td>NaN</td>\n",
       "      <td>NaN</td>\n",
       "      <td>NaN</td>\n",
       "      <td>NaN</td>\n",
       "      <td>NaN</td>\n",
       "      <td>NaN</td>\n",
       "    </tr>\n",
       "    <tr>\n",
       "      <th>2017-11-12</th>\n",
       "      <td>-0.539674</td>\n",
       "      <td>-0.534041</td>\n",
       "      <td>-0.546873</td>\n",
       "      <td>-0.528881</td>\n",
       "      <td>NaN</td>\n",
       "      <td>NaN</td>\n",
       "      <td>NaN</td>\n",
       "      <td>NaN</td>\n",
       "      <td>NaN</td>\n",
       "      <td>NaN</td>\n",
       "      <td>...</td>\n",
       "      <td>NaN</td>\n",
       "      <td>NaN</td>\n",
       "      <td>NaN</td>\n",
       "      <td>NaN</td>\n",
       "      <td>NaN</td>\n",
       "      <td>NaN</td>\n",
       "      <td>NaN</td>\n",
       "      <td>NaN</td>\n",
       "      <td>NaN</td>\n",
       "      <td>NaN</td>\n",
       "    </tr>\n",
       "    <tr>\n",
       "      <th>2017-11-13</th>\n",
       "      <td>-0.532348</td>\n",
       "      <td>-0.539674</td>\n",
       "      <td>-0.534041</td>\n",
       "      <td>-0.546873</td>\n",
       "      <td>-0.528881</td>\n",
       "      <td>NaN</td>\n",
       "      <td>NaN</td>\n",
       "      <td>NaN</td>\n",
       "      <td>NaN</td>\n",
       "      <td>NaN</td>\n",
       "      <td>...</td>\n",
       "      <td>NaN</td>\n",
       "      <td>NaN</td>\n",
       "      <td>NaN</td>\n",
       "      <td>NaN</td>\n",
       "      <td>NaN</td>\n",
       "      <td>NaN</td>\n",
       "      <td>NaN</td>\n",
       "      <td>NaN</td>\n",
       "      <td>NaN</td>\n",
       "      <td>NaN</td>\n",
       "    </tr>\n",
       "  </tbody>\n",
       "</table>\n",
       "<p>5 rows × 76 columns</p>\n",
       "</div>"
      ],
      "text/plain": [
       "                   0   shift_1   shift_2   shift_3   shift_4  shift_5  \\\n",
       "Date                                                                    \n",
       "2017-11-09 -0.528881       NaN       NaN       NaN       NaN      NaN   \n",
       "2017-11-10 -0.546873 -0.528881       NaN       NaN       NaN      NaN   \n",
       "2017-11-11 -0.534041 -0.546873 -0.528881       NaN       NaN      NaN   \n",
       "2017-11-12 -0.539674 -0.534041 -0.546873 -0.528881       NaN      NaN   \n",
       "2017-11-13 -0.532348 -0.539674 -0.534041 -0.546873 -0.528881      NaN   \n",
       "\n",
       "            shift_6  shift_7  shift_8  shift_9  ...  shift_66  shift_67  \\\n",
       "Date                                            ...                       \n",
       "2017-11-09      NaN      NaN      NaN      NaN  ...       NaN       NaN   \n",
       "2017-11-10      NaN      NaN      NaN      NaN  ...       NaN       NaN   \n",
       "2017-11-11      NaN      NaN      NaN      NaN  ...       NaN       NaN   \n",
       "2017-11-12      NaN      NaN      NaN      NaN  ...       NaN       NaN   \n",
       "2017-11-13      NaN      NaN      NaN      NaN  ...       NaN       NaN   \n",
       "\n",
       "            shift_68  shift_69  shift_70  shift_71  shift_72  shift_73  \\\n",
       "Date                                                                     \n",
       "2017-11-09       NaN       NaN       NaN       NaN       NaN       NaN   \n",
       "2017-11-10       NaN       NaN       NaN       NaN       NaN       NaN   \n",
       "2017-11-11       NaN       NaN       NaN       NaN       NaN       NaN   \n",
       "2017-11-12       NaN       NaN       NaN       NaN       NaN       NaN   \n",
       "2017-11-13       NaN       NaN       NaN       NaN       NaN       NaN   \n",
       "\n",
       "            shift_74  shift_75  \n",
       "Date                            \n",
       "2017-11-09       NaN       NaN  \n",
       "2017-11-10       NaN       NaN  \n",
       "2017-11-11       NaN       NaN  \n",
       "2017-11-12       NaN       NaN  \n",
       "2017-11-13       NaN       NaN  \n",
       "\n",
       "[5 rows x 76 columns]"
      ]
     },
     "execution_count": 547,
     "metadata": {},
     "output_type": "execute_result"
    }
   ],
   "source": [
    "shifts_count = 75\n",
    "    \n",
    "df2 = df1.copy()\n",
    "for i in range(1, shifts_count+1):\n",
    "    df2[\"shift_\"+str(i)] = df2[0].shift(i)\n",
    "df2.head()"
   ]
  },
  {
   "cell_type": "code",
   "execution_count": 548,
   "id": "8d1d7961-3712-40aa-902f-96d17b629925",
   "metadata": {},
   "outputs": [
    {
     "name": "stdout",
     "output_type": "stream",
     "text": [
      "(1536, 1)\n",
      "(1461, 76)\n"
     ]
    },
    {
     "data": {
      "text/html": [
       "<div>\n",
       "<style scoped>\n",
       "    .dataframe tbody tr th:only-of-type {\n",
       "        vertical-align: middle;\n",
       "    }\n",
       "\n",
       "    .dataframe tbody tr th {\n",
       "        vertical-align: top;\n",
       "    }\n",
       "\n",
       "    .dataframe thead th {\n",
       "        text-align: right;\n",
       "    }\n",
       "</style>\n",
       "<table border=\"1\" class=\"dataframe\">\n",
       "  <thead>\n",
       "    <tr style=\"text-align: right;\">\n",
       "      <th></th>\n",
       "      <th>0</th>\n",
       "      <th>shift_1</th>\n",
       "      <th>shift_2</th>\n",
       "      <th>shift_3</th>\n",
       "      <th>shift_4</th>\n",
       "      <th>shift_5</th>\n",
       "      <th>shift_6</th>\n",
       "      <th>shift_7</th>\n",
       "      <th>shift_8</th>\n",
       "      <th>shift_9</th>\n",
       "      <th>...</th>\n",
       "      <th>shift_66</th>\n",
       "      <th>shift_67</th>\n",
       "      <th>shift_68</th>\n",
       "      <th>shift_69</th>\n",
       "      <th>shift_70</th>\n",
       "      <th>shift_71</th>\n",
       "      <th>shift_72</th>\n",
       "      <th>shift_73</th>\n",
       "      <th>shift_74</th>\n",
       "      <th>shift_75</th>\n",
       "    </tr>\n",
       "    <tr>\n",
       "      <th>Date</th>\n",
       "      <th></th>\n",
       "      <th></th>\n",
       "      <th></th>\n",
       "      <th></th>\n",
       "      <th></th>\n",
       "      <th></th>\n",
       "      <th></th>\n",
       "      <th></th>\n",
       "      <th></th>\n",
       "      <th></th>\n",
       "      <th></th>\n",
       "      <th></th>\n",
       "      <th></th>\n",
       "      <th></th>\n",
       "      <th></th>\n",
       "      <th></th>\n",
       "      <th></th>\n",
       "      <th></th>\n",
       "      <th></th>\n",
       "      <th></th>\n",
       "      <th></th>\n",
       "    </tr>\n",
       "  </thead>\n",
       "  <tbody>\n",
       "    <tr>\n",
       "      <th>2018-01-23</th>\n",
       "      <td>0.024510</td>\n",
       "      <td>0.038676</td>\n",
       "      <td>0.077202</td>\n",
       "      <td>0.165008</td>\n",
       "      <td>0.068485</td>\n",
       "      <td>0.066140</td>\n",
       "      <td>0.047816</td>\n",
       "      <td>0.080620</td>\n",
       "      <td>0.278765</td>\n",
       "      <td>0.341020</td>\n",
       "      <td>...</td>\n",
       "      <td>-0.506651</td>\n",
       "      <td>-0.519308</td>\n",
       "      <td>-0.520531</td>\n",
       "      <td>-0.518507</td>\n",
       "      <td>-0.514952</td>\n",
       "      <td>-0.532348</td>\n",
       "      <td>-0.539674</td>\n",
       "      <td>-0.534041</td>\n",
       "      <td>-0.546873</td>\n",
       "      <td>-0.528881</td>\n",
       "    </tr>\n",
       "    <tr>\n",
       "      <th>2018-01-24</th>\n",
       "      <td>0.084854</td>\n",
       "      <td>0.024510</td>\n",
       "      <td>0.038676</td>\n",
       "      <td>0.077202</td>\n",
       "      <td>0.165008</td>\n",
       "      <td>0.068485</td>\n",
       "      <td>0.066140</td>\n",
       "      <td>0.047816</td>\n",
       "      <td>0.080620</td>\n",
       "      <td>0.278765</td>\n",
       "      <td>...</td>\n",
       "      <td>-0.501017</td>\n",
       "      <td>-0.506651</td>\n",
       "      <td>-0.519308</td>\n",
       "      <td>-0.520531</td>\n",
       "      <td>-0.518507</td>\n",
       "      <td>-0.514952</td>\n",
       "      <td>-0.532348</td>\n",
       "      <td>-0.539674</td>\n",
       "      <td>-0.534041</td>\n",
       "      <td>-0.546873</td>\n",
       "    </tr>\n",
       "    <tr>\n",
       "      <th>2018-01-25</th>\n",
       "      <td>0.082566</td>\n",
       "      <td>0.084854</td>\n",
       "      <td>0.024510</td>\n",
       "      <td>0.038676</td>\n",
       "      <td>0.077202</td>\n",
       "      <td>0.165008</td>\n",
       "      <td>0.068485</td>\n",
       "      <td>0.066140</td>\n",
       "      <td>0.047816</td>\n",
       "      <td>0.080620</td>\n",
       "      <td>...</td>\n",
       "      <td>-0.490750</td>\n",
       "      <td>-0.501017</td>\n",
       "      <td>-0.506651</td>\n",
       "      <td>-0.519308</td>\n",
       "      <td>-0.520531</td>\n",
       "      <td>-0.518507</td>\n",
       "      <td>-0.514952</td>\n",
       "      <td>-0.532348</td>\n",
       "      <td>-0.539674</td>\n",
       "      <td>-0.534041</td>\n",
       "    </tr>\n",
       "    <tr>\n",
       "      <th>2022-01-20</th>\n",
       "      <td>1.700369</td>\n",
       "      <td>1.779140</td>\n",
       "      <td>1.835863</td>\n",
       "      <td>1.876019</td>\n",
       "      <td>1.991312</td>\n",
       "      <td>1.974352</td>\n",
       "      <td>1.957277</td>\n",
       "      <td>1.905948</td>\n",
       "      <td>2.009058</td>\n",
       "      <td>1.897484</td>\n",
       "      <td>...</td>\n",
       "      <td>2.994871</td>\n",
       "      <td>3.052140</td>\n",
       "      <td>3.073018</td>\n",
       "      <td>3.086038</td>\n",
       "      <td>3.138662</td>\n",
       "      <td>3.060304</td>\n",
       "      <td>3.142558</td>\n",
       "      <td>3.206617</td>\n",
       "      <td>3.047312</td>\n",
       "      <td>2.964992</td>\n",
       "    </tr>\n",
       "    <tr>\n",
       "      <th>2022-01-21</th>\n",
       "      <td>1.331753</td>\n",
       "      <td>1.700369</td>\n",
       "      <td>1.779140</td>\n",
       "      <td>1.835863</td>\n",
       "      <td>1.876019</td>\n",
       "      <td>1.991312</td>\n",
       "      <td>1.974352</td>\n",
       "      <td>1.957277</td>\n",
       "      <td>1.905948</td>\n",
       "      <td>2.009058</td>\n",
       "      <td>...</td>\n",
       "      <td>2.711133</td>\n",
       "      <td>2.994871</td>\n",
       "      <td>3.052140</td>\n",
       "      <td>3.073018</td>\n",
       "      <td>3.086038</td>\n",
       "      <td>3.138662</td>\n",
       "      <td>3.060304</td>\n",
       "      <td>3.142558</td>\n",
       "      <td>3.206617</td>\n",
       "      <td>3.047312</td>\n",
       "    </tr>\n",
       "    <tr>\n",
       "      <th>2022-01-22</th>\n",
       "      <td>1.171815</td>\n",
       "      <td>1.331753</td>\n",
       "      <td>1.700369</td>\n",
       "      <td>1.779140</td>\n",
       "      <td>1.835863</td>\n",
       "      <td>1.876019</td>\n",
       "      <td>1.991312</td>\n",
       "      <td>1.974352</td>\n",
       "      <td>1.957277</td>\n",
       "      <td>1.905948</td>\n",
       "      <td>...</td>\n",
       "      <td>2.770377</td>\n",
       "      <td>2.711133</td>\n",
       "      <td>2.994871</td>\n",
       "      <td>3.052140</td>\n",
       "      <td>3.073018</td>\n",
       "      <td>3.086038</td>\n",
       "      <td>3.138662</td>\n",
       "      <td>3.060304</td>\n",
       "      <td>3.142558</td>\n",
       "      <td>3.206617</td>\n",
       "    </tr>\n",
       "  </tbody>\n",
       "</table>\n",
       "<p>6 rows × 76 columns</p>\n",
       "</div>"
      ],
      "text/plain": [
       "                   0   shift_1   shift_2   shift_3   shift_4   shift_5  \\\n",
       "Date                                                                     \n",
       "2018-01-23  0.024510  0.038676  0.077202  0.165008  0.068485  0.066140   \n",
       "2018-01-24  0.084854  0.024510  0.038676  0.077202  0.165008  0.068485   \n",
       "2018-01-25  0.082566  0.084854  0.024510  0.038676  0.077202  0.165008   \n",
       "2022-01-20  1.700369  1.779140  1.835863  1.876019  1.991312  1.974352   \n",
       "2022-01-21  1.331753  1.700369  1.779140  1.835863  1.876019  1.991312   \n",
       "2022-01-22  1.171815  1.331753  1.700369  1.779140  1.835863  1.876019   \n",
       "\n",
       "             shift_6   shift_7   shift_8   shift_9  ...  shift_66  shift_67  \\\n",
       "Date                                                ...                       \n",
       "2018-01-23  0.047816  0.080620  0.278765  0.341020  ... -0.506651 -0.519308   \n",
       "2018-01-24  0.066140  0.047816  0.080620  0.278765  ... -0.501017 -0.506651   \n",
       "2018-01-25  0.068485  0.066140  0.047816  0.080620  ... -0.490750 -0.501017   \n",
       "2022-01-20  1.957277  1.905948  2.009058  1.897484  ...  2.994871  3.052140   \n",
       "2022-01-21  1.974352  1.957277  1.905948  2.009058  ...  2.711133  2.994871   \n",
       "2022-01-22  1.991312  1.974352  1.957277  1.905948  ...  2.770377  2.711133   \n",
       "\n",
       "            shift_68  shift_69  shift_70  shift_71  shift_72  shift_73  \\\n",
       "Date                                                                     \n",
       "2018-01-23 -0.520531 -0.518507 -0.514952 -0.532348 -0.539674 -0.534041   \n",
       "2018-01-24 -0.519308 -0.520531 -0.518507 -0.514952 -0.532348 -0.539674   \n",
       "2018-01-25 -0.506651 -0.519308 -0.520531 -0.518507 -0.514952 -0.532348   \n",
       "2022-01-20  3.073018  3.086038  3.138662  3.060304  3.142558  3.206617   \n",
       "2022-01-21  3.052140  3.073018  3.086038  3.138662  3.060304  3.142558   \n",
       "2022-01-22  2.994871  3.052140  3.073018  3.086038  3.138662  3.060304   \n",
       "\n",
       "            shift_74  shift_75  \n",
       "Date                            \n",
       "2018-01-23 -0.546873 -0.528881  \n",
       "2018-01-24 -0.534041 -0.546873  \n",
       "2018-01-25 -0.539674 -0.534041  \n",
       "2022-01-20  3.047312  2.964992  \n",
       "2022-01-21  3.206617  3.047312  \n",
       "2022-01-22  3.142558  3.206617  \n",
       "\n",
       "[6 rows x 76 columns]"
      ]
     },
     "execution_count": 548,
     "metadata": {},
     "output_type": "execute_result"
    }
   ],
   "source": [
    "print(df1.shape)\n",
    "df2.dropna(inplace=True)\n",
    "print(df2.shape)\n",
    "df2.head(3).append(df2.tail(3))"
   ]
  },
  {
   "cell_type": "markdown",
   "id": "8468c7c9-d17f-4e5d-96b3-9bbe61cd2ade",
   "metadata": {},
   "source": [
    "## Data Split"
   ]
  },
  {
   "cell_type": "code",
   "execution_count": 549,
   "id": "13636c11-b7ac-4e1f-a19e-d87205292a40",
   "metadata": {},
   "outputs": [],
   "source": [
    "# Testing Data is from Oct 2021 till 21st Jan 2022 (till date)\n",
    "split_date = \"2021-12-01\""
   ]
  },
  {
   "cell_type": "code",
   "execution_count": 550,
   "id": "a5adb62d-41ec-42ec-965b-9283b2764a1b",
   "metadata": {},
   "outputs": [
    {
     "data": {
      "text/plain": [
       "((1409, 76), (53, 76))"
      ]
     },
     "execution_count": 550,
     "metadata": {},
     "output_type": "execute_result"
    }
   ],
   "source": [
    "train_data = df2[:split_date]\n",
    "test_data = df2[split_date:]\n",
    "train_data.shape, test_data.shape"
   ]
  },
  {
   "cell_type": "code",
   "execution_count": 551,
   "id": "e4382158-b0ec-4749-ac82-422dba2b2e0b",
   "metadata": {},
   "outputs": [
    {
     "data": {
      "text/html": [
       "<div>\n",
       "<style scoped>\n",
       "    .dataframe tbody tr th:only-of-type {\n",
       "        vertical-align: middle;\n",
       "    }\n",
       "\n",
       "    .dataframe tbody tr th {\n",
       "        vertical-align: top;\n",
       "    }\n",
       "\n",
       "    .dataframe thead th {\n",
       "        text-align: right;\n",
       "    }\n",
       "</style>\n",
       "<table border=\"1\" class=\"dataframe\">\n",
       "  <thead>\n",
       "    <tr style=\"text-align: right;\">\n",
       "      <th></th>\n",
       "      <th>0</th>\n",
       "      <th>shift_1</th>\n",
       "      <th>shift_2</th>\n",
       "      <th>shift_3</th>\n",
       "      <th>shift_4</th>\n",
       "      <th>shift_5</th>\n",
       "      <th>shift_6</th>\n",
       "      <th>shift_7</th>\n",
       "      <th>shift_8</th>\n",
       "      <th>shift_9</th>\n",
       "      <th>...</th>\n",
       "      <th>shift_66</th>\n",
       "      <th>shift_67</th>\n",
       "      <th>shift_68</th>\n",
       "      <th>shift_69</th>\n",
       "      <th>shift_70</th>\n",
       "      <th>shift_71</th>\n",
       "      <th>shift_72</th>\n",
       "      <th>shift_73</th>\n",
       "      <th>shift_74</th>\n",
       "      <th>shift_75</th>\n",
       "    </tr>\n",
       "    <tr>\n",
       "      <th>Date</th>\n",
       "      <th></th>\n",
       "      <th></th>\n",
       "      <th></th>\n",
       "      <th></th>\n",
       "      <th></th>\n",
       "      <th></th>\n",
       "      <th></th>\n",
       "      <th></th>\n",
       "      <th></th>\n",
       "      <th></th>\n",
       "      <th></th>\n",
       "      <th></th>\n",
       "      <th></th>\n",
       "      <th></th>\n",
       "      <th></th>\n",
       "      <th></th>\n",
       "      <th></th>\n",
       "      <th></th>\n",
       "      <th></th>\n",
       "      <th></th>\n",
       "      <th></th>\n",
       "    </tr>\n",
       "  </thead>\n",
       "  <tbody>\n",
       "    <tr>\n",
       "      <th>2018-01-23</th>\n",
       "      <td>0.024510</td>\n",
       "      <td>0.038676</td>\n",
       "      <td>0.077202</td>\n",
       "      <td>0.165008</td>\n",
       "      <td>0.068485</td>\n",
       "      <td>0.066140</td>\n",
       "      <td>0.047816</td>\n",
       "      <td>0.080620</td>\n",
       "      <td>0.278765</td>\n",
       "      <td>0.341020</td>\n",
       "      <td>...</td>\n",
       "      <td>-0.506651</td>\n",
       "      <td>-0.519308</td>\n",
       "      <td>-0.520531</td>\n",
       "      <td>-0.518507</td>\n",
       "      <td>-0.514952</td>\n",
       "      <td>-0.532348</td>\n",
       "      <td>-0.539674</td>\n",
       "      <td>-0.534041</td>\n",
       "      <td>-0.546873</td>\n",
       "      <td>-0.528881</td>\n",
       "    </tr>\n",
       "    <tr>\n",
       "      <th>2018-01-24</th>\n",
       "      <td>0.084854</td>\n",
       "      <td>0.024510</td>\n",
       "      <td>0.038676</td>\n",
       "      <td>0.077202</td>\n",
       "      <td>0.165008</td>\n",
       "      <td>0.068485</td>\n",
       "      <td>0.066140</td>\n",
       "      <td>0.047816</td>\n",
       "      <td>0.080620</td>\n",
       "      <td>0.278765</td>\n",
       "      <td>...</td>\n",
       "      <td>-0.501017</td>\n",
       "      <td>-0.506651</td>\n",
       "      <td>-0.519308</td>\n",
       "      <td>-0.520531</td>\n",
       "      <td>-0.518507</td>\n",
       "      <td>-0.514952</td>\n",
       "      <td>-0.532348</td>\n",
       "      <td>-0.539674</td>\n",
       "      <td>-0.534041</td>\n",
       "      <td>-0.546873</td>\n",
       "    </tr>\n",
       "    <tr>\n",
       "      <th>2021-11-30</th>\n",
       "      <td>3.056399</td>\n",
       "      <td>2.901384</td>\n",
       "      <td>2.776082</td>\n",
       "      <td>2.611780</td>\n",
       "      <td>2.556882</td>\n",
       "      <td>2.759688</td>\n",
       "      <td>2.730776</td>\n",
       "      <td>2.814600</td>\n",
       "      <td>2.604748</td>\n",
       "      <td>2.755521</td>\n",
       "      <td>...</td>\n",
       "      <td>1.637528</td>\n",
       "      <td>1.642604</td>\n",
       "      <td>1.828792</td>\n",
       "      <td>1.764203</td>\n",
       "      <td>1.503506</td>\n",
       "      <td>1.665331</td>\n",
       "      <td>1.973452</td>\n",
       "      <td>2.058763</td>\n",
       "      <td>2.030917</td>\n",
       "      <td>2.174605</td>\n",
       "    </tr>\n",
       "    <tr>\n",
       "      <th>2021-12-01</th>\n",
       "      <td>3.019396</td>\n",
       "      <td>3.056399</td>\n",
       "      <td>2.901384</td>\n",
       "      <td>2.776082</td>\n",
       "      <td>2.611780</td>\n",
       "      <td>2.556882</td>\n",
       "      <td>2.759688</td>\n",
       "      <td>2.730776</td>\n",
       "      <td>2.814600</td>\n",
       "      <td>2.604748</td>\n",
       "      <td>...</td>\n",
       "      <td>1.751226</td>\n",
       "      <td>1.637528</td>\n",
       "      <td>1.642604</td>\n",
       "      <td>1.828792</td>\n",
       "      <td>1.764203</td>\n",
       "      <td>1.503506</td>\n",
       "      <td>1.665331</td>\n",
       "      <td>1.973452</td>\n",
       "      <td>2.058763</td>\n",
       "      <td>2.030917</td>\n",
       "    </tr>\n",
       "  </tbody>\n",
       "</table>\n",
       "<p>4 rows × 76 columns</p>\n",
       "</div>"
      ],
      "text/plain": [
       "                   0   shift_1   shift_2   shift_3   shift_4   shift_5  \\\n",
       "Date                                                                     \n",
       "2018-01-23  0.024510  0.038676  0.077202  0.165008  0.068485  0.066140   \n",
       "2018-01-24  0.084854  0.024510  0.038676  0.077202  0.165008  0.068485   \n",
       "2021-11-30  3.056399  2.901384  2.776082  2.611780  2.556882  2.759688   \n",
       "2021-12-01  3.019396  3.056399  2.901384  2.776082  2.611780  2.556882   \n",
       "\n",
       "             shift_6   shift_7   shift_8   shift_9  ...  shift_66  shift_67  \\\n",
       "Date                                                ...                       \n",
       "2018-01-23  0.047816  0.080620  0.278765  0.341020  ... -0.506651 -0.519308   \n",
       "2018-01-24  0.066140  0.047816  0.080620  0.278765  ... -0.501017 -0.506651   \n",
       "2021-11-30  2.730776  2.814600  2.604748  2.755521  ...  1.637528  1.642604   \n",
       "2021-12-01  2.759688  2.730776  2.814600  2.604748  ...  1.751226  1.637528   \n",
       "\n",
       "            shift_68  shift_69  shift_70  shift_71  shift_72  shift_73  \\\n",
       "Date                                                                     \n",
       "2018-01-23 -0.520531 -0.518507 -0.514952 -0.532348 -0.539674 -0.534041   \n",
       "2018-01-24 -0.519308 -0.520531 -0.518507 -0.514952 -0.532348 -0.539674   \n",
       "2021-11-30  1.828792  1.764203  1.503506  1.665331  1.973452  2.058763   \n",
       "2021-12-01  1.642604  1.828792  1.764203  1.503506  1.665331  1.973452   \n",
       "\n",
       "            shift_74  shift_75  \n",
       "Date                            \n",
       "2018-01-23 -0.546873 -0.528881  \n",
       "2018-01-24 -0.534041 -0.546873  \n",
       "2021-11-30  2.030917  2.174605  \n",
       "2021-12-01  2.058763  2.030917  \n",
       "\n",
       "[4 rows x 76 columns]"
      ]
     },
     "execution_count": 551,
     "metadata": {},
     "output_type": "execute_result"
    }
   ],
   "source": [
    "train_data.head(2).append(train_data.tail(2))"
   ]
  },
  {
   "cell_type": "code",
   "execution_count": 552,
   "id": "5b61136d-7d3d-485c-8d67-9025a081ccc3",
   "metadata": {},
   "outputs": [
    {
     "name": "stdout",
     "output_type": "stream",
     "text": [
      "(1409, 76)\n",
      "(53, 76)\n"
     ]
    }
   ],
   "source": [
    "print(np.array(train_data).shape)\n",
    "print(np.array(test_data).shape)"
   ]
  },
  {
   "cell_type": "code",
   "execution_count": 553,
   "id": "09fccd2b-e385-483b-bd09-25b2e5a499a4",
   "metadata": {},
   "outputs": [
    {
     "name": "stdout",
     "output_type": "stream",
     "text": [
      "(1409, 75) (1409,) (53, 75) (53,)\n"
     ]
    }
   ],
   "source": [
    "# Data Prep\n",
    "X_train, y_train = train_data.drop(columns=[0]), train_data[0]\n",
    "X_test, y_test = test_data.drop(columns=[0]), test_data[0]\n",
    "print(X_train.shape, y_train.shape, X_test.shape, y_test.shape)"
   ]
  },
  {
   "cell_type": "code",
   "execution_count": 554,
   "id": "5d1e4c8d-bb52-4276-927a-a0bda9fd70cc",
   "metadata": {},
   "outputs": [
    {
     "name": "stdout",
     "output_type": "stream",
     "text": [
      "(1409, 75) (1409,) (53, 75) (53,)\n"
     ]
    }
   ],
   "source": [
    "X_train = np.array(X_train)\n",
    "X_test = np.array(X_test)\n",
    "y_train = np.array(y_train)\n",
    "y_test = np.array(y_test)\n",
    "print(X_train.shape, y_train.shape, X_test.shape, y_test.shape)"
   ]
  },
  {
   "cell_type": "code",
   "execution_count": 555,
   "id": "8b787e0b-883b-4562-ba19-a091994d41e0",
   "metadata": {},
   "outputs": [
    {
     "name": "stdout",
     "output_type": "stream",
     "text": [
      "(1409, 75, 1) (53, 75, 1)\n"
     ]
    }
   ],
   "source": [
    "X_train = X_train.reshape(X_train.shape[0],X_train.shape[1],1)\n",
    "X_test = X_test.reshape(X_test.shape[0],X_test.shape[1],1)\n",
    "print(X_train.shape, X_test.shape)"
   ]
  },
  {
   "cell_type": "code",
   "execution_count": 570,
   "id": "898b7510-660f-42ea-b201-591889b0ad99",
   "metadata": {},
   "outputs": [
    {
     "name": "stdout",
     "output_type": "stream",
     "text": [
      "Selected Ticker:  ETH-USD\n",
      "TimeShifts Considered:  75\n",
      "TimeShifts Considered:  2021-12-01\n",
      "Data Shape:  (1409, 75, 1)\n",
      "Data Shape:  (53, 75, 1)\n"
     ]
    }
   ],
   "source": [
    "print(\"Selected Ticker: \",ticker)\n",
    "print(\"TimeShifts Considered: \", shifts_count)\n",
    "print(\"TimeShifts Considered: \", split_date)\n",
    "print(\"Data Shape: \", X_train.shape)\n",
    "print(\"Data Shape: \", X_test.shape)"
   ]
  },
  {
   "cell_type": "code",
   "execution_count": 571,
   "id": "80e0eee5-fe52-4554-85a1-4e56c8d40a15",
   "metadata": {},
   "outputs": [
    {
     "name": "stdout",
     "output_type": "stream",
     "text": [
      "Model: \"sequential_30\"\n",
      "_________________________________________________________________\n",
      " Layer (type)                Output Shape              Param #   \n",
      "=================================================================\n",
      " lstm_68 (LSTM)              (None, 75, 50)            10400     \n",
      "                                                                 \n",
      " lstm_69 (LSTM)              (None, 16)                4288      \n",
      "                                                                 \n",
      " dense_50 (Dense)            (None, 32)                544       \n",
      "                                                                 \n",
      " dropout_16 (Dropout)        (None, 32)                0         \n",
      "                                                                 \n",
      " dense_51 (Dense)            (None, 8)                 264       \n",
      "                                                                 \n",
      " dense_52 (Dense)            (None, 1)                 9         \n",
      "                                                                 \n",
      "=================================================================\n",
      "Total params: 15,505\n",
      "Trainable params: 15,505\n",
      "Non-trainable params: 0\n",
      "_________________________________________________________________\n"
     ]
    }
   ],
   "source": [
    "# Create a LSTM Model\n",
    "model = Sequential()\n",
    "# model.add(LSTM(16, input_shape=(X_train.shape[1],1), ))\n",
    "model.add(LSTM(50, return_sequences=True, input_shape=(X_train.shape[1],1)))\n",
    "# model.add(LSTM(16, return_sequences=True))\n",
    "# model.add(Dropout(0.2))\n",
    "model.add(LSTM(16))\n",
    "# model.add(LSTM(64))\n",
    "model.add(Dense(32, activation='relu'))\n",
    "model.add(Dropout(0.2))\n",
    "model.add(Dense(8, activation='relu'))\n",
    "model.add(Dense(1, activation='linear'))\n",
    "model.compile(loss=\"mean_squared_error\", optimizer=tf.keras.optimizers.Adam(learning_rate=0.0001))\n",
    "model.summary()"
   ]
  },
  {
   "cell_type": "code",
   "execution_count": 575,
   "id": "8f3d2c30-50ec-465a-82a6-4f58748410da",
   "metadata": {
    "tags": []
   },
   "outputs": [
    {
     "name": "stdout",
     "output_type": "stream",
     "text": [
      "The tensorboard extension is already loaded. To reload it, use:\n",
      "  %reload_ext tensorboard\n"
     ]
    },
    {
     "data": {
      "text/plain": [
       "Reusing TensorBoard on port 6006 (pid 3364), started 1:14:57 ago. (Use '!kill 3364' to kill it.)"
      ]
     },
     "metadata": {},
     "output_type": "display_data"
    },
    {
     "data": {
      "text/html": [
       "\n",
       "      <iframe id=\"tensorboard-frame-8cc299afaa5fbfc6\" width=\"100%\" height=\"800\" frameborder=\"0\">\n",
       "      </iframe>\n",
       "      <script>\n",
       "        (function() {\n",
       "          const frame = document.getElementById(\"tensorboard-frame-8cc299afaa5fbfc6\");\n",
       "          const url = new URL(\"/\", window.location);\n",
       "          const port = 6006;\n",
       "          if (port) {\n",
       "            url.port = port;\n",
       "          }\n",
       "          frame.src = url;\n",
       "        })();\n",
       "      </script>\n",
       "    "
      ],
      "text/plain": [
       "<IPython.core.display.HTML object>"
      ]
     },
     "metadata": {},
     "output_type": "display_data"
    }
   ],
   "source": [
    "# # Load the TensorBoard notebook extension\n",
    "%load_ext tensorboard\n",
    "%tensorboard --logdir logs/fit"
   ]
  },
  {
   "cell_type": "code",
   "execution_count": 574,
   "id": "c2cdabe1-9aff-4f6a-b764-abcf963f185b",
   "metadata": {},
   "outputs": [],
   "source": [
    "import shutil\n",
    "try:\n",
    "    shutil.rmtree('logs')\n",
    "except FileNotFoundError:\n",
    "    pass"
   ]
  },
  {
   "cell_type": "code",
   "execution_count": 576,
   "id": "754bd558-eb97-418a-8ed0-287a60adae88",
   "metadata": {
    "scrolled": true,
    "tags": []
   },
   "outputs": [
    {
     "name": "stdout",
     "output_type": "stream",
     "text": [
      "Epoch 1/50\n",
      "141/141 [==============================] - 12s 54ms/step - loss: 0.6866 - val_loss: 2.8075\n",
      "Epoch 2/50\n",
      "141/141 [==============================] - ETA: 0s - loss: 0.250 - 6s 44ms/step - loss: 0.2509 - val_loss: 0.9365\n",
      "Epoch 3/50\n",
      "141/141 [==============================] - 6s 44ms/step - loss: 0.1500 - val_loss: 0.5979\n",
      "Epoch 4/50\n",
      "141/141 [==============================] - 6s 45ms/step - loss: 0.1408 - val_loss: 0.4346\n",
      "Epoch 5/50\n",
      "141/141 [==============================] - 6s 44ms/step - loss: 0.1378 - val_loss: 0.3725\n",
      "Epoch 6/50\n",
      "141/141 [==============================] - 6s 44ms/step - loss: 0.1317 - val_loss: 0.3589\n",
      "Epoch 7/50\n",
      "141/141 [==============================] - 6s 43ms/step - loss: 0.1234 - val_loss: 0.3604\n",
      "Epoch 8/50\n",
      "141/141 [==============================] - 6s 44ms/step - loss: 0.1264 - val_loss: 0.3080\n",
      "Epoch 9/50\n",
      "141/141 [==============================] - 6s 42ms/step - loss: 0.1264 - val_loss: 0.3093\n",
      "Epoch 10/50\n",
      "141/141 [==============================] - 6s 44ms/step - loss: 0.1246 - val_loss: 0.2774\n",
      "Epoch 11/50\n",
      "141/141 [==============================] - 6s 44ms/step - loss: 0.1093 - val_loss: 0.3359\n",
      "Epoch 12/50\n",
      "141/141 [==============================] - 6s 43ms/step - loss: 0.1091 - val_loss: 0.2759\n",
      "Epoch 13/50\n",
      "141/141 [==============================] - 7s 48ms/step - loss: 0.1142 - val_loss: 0.2751\n",
      "Epoch 14/50\n",
      "141/141 [==============================] - 6s 43ms/step - loss: 0.1084 - val_loss: 0.2857\n",
      "Epoch 15/50\n",
      "141/141 [==============================] - 6s 42ms/step - loss: 0.1094 - val_loss: 0.2423\n",
      "Epoch 16/50\n",
      "141/141 [==============================] - ETA: 0s - loss: 0.107 - 6s 43ms/step - loss: 0.1073 - val_loss: 0.2440\n",
      "Epoch 17/50\n",
      "141/141 [==============================] - 6s 44ms/step - loss: 0.1065 - val_loss: 0.2502\n",
      "Epoch 18/50\n",
      "141/141 [==============================] - 6s 42ms/step - loss: 0.1055 - val_loss: 0.2781\n",
      "Epoch 19/50\n",
      "141/141 [==============================] - 6s 45ms/step - loss: 0.0971 - val_loss: 0.2489\n",
      "Epoch 20/50\n",
      "141/141 [==============================] - 6s 43ms/step - loss: 0.0982 - val_loss: 0.2646\n",
      "Epoch 21/50\n",
      "141/141 [==============================] - 6s 45ms/step - loss: 0.0992 - val_loss: 0.2453\n",
      "Epoch 22/50\n",
      "141/141 [==============================] - 6s 43ms/step - loss: 0.0970 - val_loss: 0.2726\n",
      "Epoch 23/50\n",
      "141/141 [==============================] - 6s 43ms/step - loss: 0.1013 - val_loss: 0.2606\n",
      "Epoch 24/50\n",
      "141/141 [==============================] - 6s 43ms/step - loss: 0.0960 - val_loss: 0.2635\n",
      "Epoch 25/50\n",
      "141/141 [==============================] - 7s 52ms/step - loss: 0.0980 - val_loss: 0.2458\n",
      "Epoch 26/50\n",
      "141/141 [==============================] - 8s 55ms/step - loss: 0.0956 - val_loss: 0.2353\n",
      "Epoch 27/50\n",
      "141/141 [==============================] - 8s 57ms/step - loss: 0.0996 - val_loss: 0.3171\n",
      "Epoch 28/50\n",
      "141/141 [==============================] - 8s 55ms/step - loss: 0.0990 - val_loss: 0.2648\n",
      "Epoch 29/50\n",
      "141/141 [==============================] - 8s 55ms/step - loss: 0.0990 - val_loss: 0.2727\n",
      "Epoch 30/50\n",
      "141/141 [==============================] - 8s 58ms/step - loss: 0.0949 - val_loss: 0.2657\n",
      "Epoch 31/50\n",
      "141/141 [==============================] - 9s 60ms/step - loss: 0.0950 - val_loss: 0.2454\n",
      "Epoch 32/50\n",
      "141/141 [==============================] - 9s 61ms/step - loss: 0.0943 - val_loss: 0.2362\n",
      "Epoch 33/50\n",
      "141/141 [==============================] - 7s 53ms/step - loss: 0.0895 - val_loss: 0.2231\n",
      "Epoch 34/50\n",
      "141/141 [==============================] - 7s 49ms/step - loss: 0.1020 - val_loss: 0.2320\n",
      "Epoch 35/50\n",
      "141/141 [==============================] - 7s 46ms/step - loss: 0.0947 - val_loss: 0.2779\n",
      "Epoch 36/50\n",
      "141/141 [==============================] - 8s 59ms/step - loss: 0.0886 - val_loss: 0.2632\n",
      "Epoch 37/50\n",
      "141/141 [==============================] - 8s 59ms/step - loss: 0.0996 - val_loss: 0.2341\n",
      "Epoch 38/50\n",
      "141/141 [==============================] - 8s 56ms/step - loss: 0.0874 - val_loss: 0.2740\n",
      "Epoch 39/50\n",
      "141/141 [==============================] - 8s 59ms/step - loss: 0.0873 - val_loss: 0.2322\n",
      "Epoch 40/50\n",
      "141/141 [==============================] - 8s 58ms/step - loss: 0.0862 - val_loss: 0.2333\n",
      "Epoch 41/50\n",
      "141/141 [==============================] - 8s 55ms/step - loss: 0.0838 - val_loss: 0.2426\n",
      "Epoch 42/50\n",
      "141/141 [==============================] - 8s 60ms/step - loss: 0.0845 - val_loss: 0.2334\n",
      "Epoch 43/50\n",
      "141/141 [==============================] - 8s 59ms/step - loss: 0.0865 - val_loss: 0.2763\n",
      "Epoch 44/50\n",
      "141/141 [==============================] - 8s 55ms/step - loss: 0.0843 - val_loss: 0.2287\n",
      "Epoch 45/50\n",
      "141/141 [==============================] - 7s 46ms/step - loss: 0.0788 - val_loss: 0.2017\n",
      "Epoch 46/50\n",
      "141/141 [==============================] - 7s 50ms/step - loss: 0.0862 - val_loss: 0.2155\n",
      "Epoch 47/50\n",
      "141/141 [==============================] - 7s 52ms/step - loss: 0.0789 - val_loss: 0.2153\n",
      "Epoch 48/50\n",
      "141/141 [==============================] - 8s 55ms/step - loss: 0.0824 - val_loss: 0.2306\n",
      "Epoch 49/50\n",
      "141/141 [==============================] - 8s 55ms/step - loss: 0.0726 - val_loss: 0.2111\n",
      "Epoch 50/50\n",
      "141/141 [==============================] - 8s 60ms/step - loss: 0.0812 - val_loss: 0.2223\n"
     ]
    }
   ],
   "source": [
    "# my_callbacks = [tf.keras.callbacks.EarlyStopping(patience=7),]\n",
    "my_callbacks = []\n",
    "\n",
    "log_dir = \"logs/fit/\" + datetime.datetime.now().strftime(\"%Y%m%d-%H%M%S\")\n",
    "tensorboard_callback = tf.keras.callbacks.TensorBoard(log_dir=log_dir, histogram_freq=1)\n",
    "my_callbacks = [tensorboard_callback]\n",
    "\n",
    "\n",
    "history = model.fit(X_train, y_train, validation_data=(X_test, y_test), epochs=50, batch_size=10, verbose=1,callbacks=my_callbacks)"
   ]
  },
  {
   "cell_type": "code",
   "execution_count": 577,
   "id": "af9f6d40-ab2e-45c5-816a-a0fe24b1b9e6",
   "metadata": {},
   "outputs": [
    {
     "data": {
      "image/png": "[encoded data removed]",
      "text/plain": [
       "<Figure size 432x288 with 1 Axes>"
      ]
     },
     "metadata": {
      "needs_background": "light"
     },
     "output_type": "display_data"
    }
   ],
   "source": [
    "%matplotlib inline\n",
    "plt.plot(history.history['loss'],label='train')\n",
    "plt.plot(history.history['val_loss'], label='validation')\n",
    "plt.legend()\n",
    "plt.show();"
   ]
  },
  {
   "cell_type": "markdown",
   "id": "f2388dfa-761e-4e07-af7e-5d71a47e1bdb",
   "metadata": {},
   "source": [
    "# Predictions"
   ]
  },
  {
   "cell_type": "code",
   "execution_count": 578,
   "id": "6e70adba-033b-48bb-beef-5fb55228c259",
   "metadata": {},
   "outputs": [
    {
     "name": "stdout",
     "output_type": "stream",
     "text": [
      "(1409, 1) (53, 1)\n",
      "Training:  1359.7444941301794\n",
      "Testing:  3921.108892881605\n",
      "Training:  889.8350629473215\n",
      "Testing:  3920.5536948769723\n"
     ]
    }
   ],
   "source": [
    "train_preds = model.predict(X_train)\n",
    "test_preds = model.predict(X_test)\n",
    "\n",
    "train_preds = scaler.inverse_transform(train_preds)\n",
    "test_preds = scaler.inverse_transform(test_preds)\n",
    "\n",
    "print(train_preds.shape, test_preds.shape)\n",
    "\n",
    "print(\"Training: \",math.sqrt(mean_squared_error(y_train, train_preds)))\n",
    "print(\"Testing: \",math.sqrt(mean_squared_error(y_test, test_preds)))\n",
    "\n",
    "print(\"Training: \",mean_absolute_error(y_train, train_preds))\n",
    "print(\"Testing: \",mean_absolute_error(y_test, test_preds))"
   ]
  },
  {
   "cell_type": "code",
   "execution_count": 579,
   "id": "38a4f809-dd4b-49a4-95c2-f919739ea9d6",
   "metadata": {},
   "outputs": [
    {
     "data": {
      "image/png": "[encoded data removed]",
      "text/plain": [
       "<Figure size 432x288 with 1 Axes>"
      ]
     },
     "metadata": {
      "needs_background": "light"
     },
     "output_type": "display_data"
    }
   ],
   "source": [
    "errors = abs(y_test - test_preds.flatten())\n",
    "%matplotlib inline\n",
    "plt.plot(errors)\n",
    "plt.show();"
   ]
  },
  {
   "cell_type": "code",
   "execution_count": 580,
   "id": "b6736137-bcf1-401b-b0e0-7cf2345ae33b",
   "metadata": {},
   "outputs": [
    {
     "name": "stdout",
     "output_type": "stream",
     "text": [
      "(1461,) (1461,)\n"
     ]
    }
   ],
   "source": [
    "alfa = np.zeros(len(df2))\n",
    "alfa[:len(train_preds),] = train_preds.reshape(-1)\n",
    "alfa[len(train_preds):,] = np.nan\n",
    "\n",
    "beta = np.zeros(len(df2))\n",
    "beta[:len(train_preds),] = np.nan\n",
    "beta[len(train_preds)-1:,] = test_preds.reshape(-1)\n",
    "\n",
    "print(alfa.shape, beta.shape)"
   ]
  },
  {
   "cell_type": "code",
   "execution_count": 581,
   "id": "482dadde-ebd6-4fe9-966a-e68b57ffceec",
   "metadata": {},
   "outputs": [
    {
     "data": {
      "text/plain": [
       "(52,)"
      ]
     },
     "execution_count": 581,
     "metadata": {},
     "output_type": "execute_result"
    }
   ],
   "source": [
    "beta[len(train_preds):,].shape"
   ]
  },
  {
   "cell_type": "code",
   "execution_count": 582,
   "id": "006188e1-c7bd-4320-be00-a36a1afc6be3",
   "metadata": {},
   "outputs": [
    {
     "data": {
      "application/vnd.jupyter.widget-view+json": {
       "model_id": "0ea4a3266b7a4681926cb51431380ab3",
       "version_major": 2,
       "version_minor": 0
      },
      "image/png": "[encoded data removed]",
      "text/html": [
       "\n",
       "            <div style=\"display: inline-block;\">\n",
       "                <div class=\"jupyter-widgets widget-label\" style=\"text-align: center;\">\n",
       "                    Figure\n",
       "                </div>\n",
       "                <img src='data:image/png;base64,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' width=864.0/>\n",
       "            </div>\n",
       "        "
      ],
      "text/plain": [
       "Canvas(toolbar=Toolbar(toolitems=[('Home', 'Reset original view', 'home', 'home'), ('Back', 'Back to previous …"
      ]
     },
     "metadata": {},
     "output_type": "display_data"
    }
   ],
   "source": [
    "# plot baseline and predictions\n",
    "%matplotlib widget\n",
    "plt.figure(figsize=(12,5))\n",
    "plt.plot(scaler.inverse_transform(np.array(df2[0]).reshape(-1,1)), label='actuals')\n",
    "plt.plot(alfa,label='train preds')\n",
    "plt.plot(beta, label='test preds')\n",
    "plt.legend()\n",
    "plt.show();"
   ]
  },
  {
   "cell_type": "markdown",
   "id": "c92f2afc-774d-4e59-bb22-4e899fc69196",
   "metadata": {},
   "source": [
    "# Predict Next 30 Days"
   ]
  },
  {
   "cell_type": "code",
   "execution_count": 519,
   "id": "da13a28f-ed46-4c29-bb9b-00e9bfabf0a3",
   "metadata": {},
   "outputs": [
    {
     "name": "stdout",
     "output_type": "stream",
     "text": [
      "10 10\n",
      "30\n"
     ]
    }
   ],
   "source": [
    "x_input = np.array(df2[0].iloc[-shifts_count:])\n",
    "temp_x = x_input.tolist()\n",
    "print(len(temp_x), shifts_count)\n",
    "\n",
    "predictions = []\n",
    "future_days = 30\n",
    "\n",
    "while(future_days > 0):\n",
    "    if len(temp_x) > shifts_count:\n",
    "        x_input = np.array(temp_x[-shifts_count:])\n",
    "        x_input = x_input.reshape((1, shifts_count,1))\n",
    "        y_hat = model.predict(x_input)\n",
    "    else:\n",
    "        x_input = x_input.reshape((1, shifts_count,1))\n",
    "        y_hat = model.predict(x_input)\n",
    "        \n",
    "    temp_x.extend(y_hat[0].tolist())\n",
    "    predictions.extend(y_hat[0])\n",
    "    future_days -= 1\n",
    "    \n",
    "print(len(predictions))"
   ]
  },
  {
   "cell_type": "code",
   "execution_count": 520,
   "id": "f266f5df-8890-42b8-8bca-e43b78162e78",
   "metadata": {},
   "outputs": [
    {
     "data": {
      "text/plain": [
       "array([57.972008, 60.01393 , 63.33426 , 67.17029 , 70.07473 , 72.50316 ,\n",
       "       73.7942  , 74.18542 , 72.777145, 67.53919 , 57.557014, 60.25768 ,\n",
       "       63.13652 , 65.43433 , 66.843956, 67.38681 , 66.84178 , 65.12469 ,\n",
       "       62.382442, 59.69814 , 58.73687 , 60.918816, 62.59148 , 63.47857 ,\n",
       "       63.53899 , 62.806503, 61.469566, 59.95897 , 58.87676 , 58.70104 ],\n",
       "      dtype=float32)"
      ]
     },
     "execution_count": 520,
     "metadata": {},
     "output_type": "execute_result"
    }
   ],
   "source": [
    "scaler.inverse_transform(np.array(predictions).reshape(-1,1))[:,0]"
   ]
  },
  {
   "cell_type": "code",
   "execution_count": 521,
   "id": "ffa7d4b3-3f43-41f1-9c1f-76ae74b12d9c",
   "metadata": {},
   "outputs": [
    {
     "data": {
      "text/plain": [
       "(296, 296)"
      ]
     },
     "execution_count": 521,
     "metadata": {},
     "output_type": "execute_result"
    }
   ],
   "source": [
    "# print(list(range(0,len(df2)))[-1])\n",
    "# print(list(range(len(df2),len(df2)+future_days))[0])\n",
    "# print(list(range(len(df2),len(df2)+future_days))[-1])\n",
    "list(range(len(df2),len(df2)+future_days))\n",
    "len(df2), len(df2)+future_days"
   ]
  },
  {
   "cell_type": "code",
   "execution_count": 583,
   "id": "39b6d80e-5953-4cc4-bf9b-c6ddece670d3",
   "metadata": {},
   "outputs": [
    {
     "data": {
      "application/vnd.jupyter.widget-view+json": {
       "model_id": "40af336556044b66bf57f0da78a93301",
       "version_major": 2,
       "version_minor": 0
      },
      "image/png": "[encoded data removed]",
      "text/html": [
       "\n",
       "            <div style=\"display: inline-block;\">\n",
       "                <div class=\"jupyter-widgets widget-label\" style=\"text-align: center;\">\n",
       "                    Figure\n",
       "                </div>\n",
       "                <img src='data:image/png;base64,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' width=1080.0/>\n",
       "            </div>\n",
       "        "
      ],
      "text/plain": [
       "Canvas(toolbar=Toolbar(toolitems=[('Home', 'Reset original view', 'home', 'home'), ('Back', 'Back to previous …"
      ]
     },
     "metadata": {},
     "output_type": "display_data"
    }
   ],
   "source": [
    "%matplotlib widget\n",
    "future_days = 30\n",
    "plt.figure(figsize=(15,5))\n",
    "plt.plot(range(0,len(df2)), scaler.inverse_transform(np.array(df2[0]).reshape(-1,1)))\n",
    "plt.plot(range(len(df2),len(df2)+future_days), scaler.inverse_transform(np.array(predictions).reshape(-1,1)))\n",
    "plt.show();"
   ]
  },
  {
   "cell_type": "markdown",
   "id": "37f403c6-d144-4c4c-8af4-724ef16e448e",
   "metadata": {},
   "source": [
    "### References\n",
    "\n",
    "1. [How to get Stock Market Data in Python?](https://blog.quantinsti.com/stock-market-data-analysis-python/)\n",
    "2. [How to get INDIAN stock prices with Python?](https://www.youtube.com/watch?v=HmgmhOpS42A)"
   ]
  }
 ],
 "metadata": {
  "kernelspec": {
   "display_name": "Python 3",
   "language": "python",
   "name": "python3"
  },
  "language_info": {
   "codemirror_mode": {
    "name": "ipython",
    "version": 3
   },
   "file_extension": ".py",
   "mimetype": "text/x-python",
   "name": "python",
   "nbconvert_exporter": "python",
   "pygments_lexer": "ipython3",
   "version": "3.8.8"
  }
 },
 "nbformat": 4,
 "nbformat_minor": 5
}
