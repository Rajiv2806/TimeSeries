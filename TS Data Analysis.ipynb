{
 "cells": [
  {
   "cell_type": "markdown",
   "id": "aa7a198d-5c0f-4c9f-9eb4-8628f0626e11",
   "metadata": {},
   "source": [
    "# Waste Water Management \n",
    "\n",
    "TimeSeries Data Analysis - Hillsborough"
   ]
  },
  {
   "cell_type": "code",
   "execution_count": 7,
   "id": "6739214c-90c4-4e41-a857-1dfba438dc45",
   "metadata": {},
   "outputs": [],
   "source": [
    "import pandas as pd\n",
    "import matplotlib.pyplot as plt"
   ]
  },
  {
   "cell_type": "code",
   "execution_count": 4,
   "id": "f6984aaa-510a-4d75-8177-01046885be19",
   "metadata": {},
   "outputs": [],
   "source": [
    "import pandas as pd\n",
    "import numpy as np\n",
    "\n",
    "def df_info_func(df, vizualize=False, threshold=3, display_sample=True, side_by_side=True):\n",
    "    def f1(series):\n",
    "        try: return str(series.unique().tolist())\n",
    "        except: return '--'\n",
    "\n",
    "    print(f'Rows: {df.shape[0]} N Cols: {df.shape[1]}')\n",
    "\n",
    "    if df.shape[0] > 0:\n",
    "        df_info = pd.DataFrame(index=df.columns)\n",
    "        df_info['data_types'] = df.dtypes.values\n",
    "        df_info['n_missing'] = df.isna().sum().values    \n",
    "        df_info['missing_pct'] = round((df_info['n_missing'] / len(df))*100,2)\n",
    "\n",
    "        df_ = df.astype(str).copy()\n",
    "\n",
    "        df_info['n_unique'] = df_.apply(lambda x: x.nunique(),axis=0).values\n",
    "        df_info['uniq_vals'] = df_.apply(lambda x: np.where(x.nunique() <= threshold, f1(x), '--')).values\n",
    "\n",
    "        for c in df.columns:            \n",
    "            if df[c].dtype == 'datetime64[ns]':\n",
    "                dt_str = \"From: \" + df[c].min().strftime('%d-%b-%Y')\n",
    "                dt_str += \" Till: \" + df[c].max().strftime('%d-%b-%Y')\n",
    "                df_info.loc[c,'uniq_vals'] = dt_str                \n",
    "            elif df[c].dtype == 'float64' or  df[c].dtype == 'int64':\n",
    "                real_num_series = df[c].dropna()\n",
    "                if len(real_num_series) > 0:\n",
    "                    dt_str = \"Min: \" + str(int(real_num_series.min()))\n",
    "                    dt_str += \" Max: \" + str(int(real_num_series.max()))\n",
    "                    dt_str += \" Mean: \" + str(int(real_num_series.mean()))\n",
    "                    dt_str += \" Med: \" + str(int(real_num_series.median()))\n",
    "                    dt_str += \" Std: \" + str(int(real_num_series.std()))\n",
    "                else:\n",
    "                    dt_str = \"\"\n",
    "                df_info.loc[c,'uniq_vals'] = dt_str\n",
    "            else:\n",
    "                pass\n",
    "                \n",
    "        df_info.reset_index(inplace=True)\n",
    "        df_info.rename(columns={'index':'cols'},inplace=True)\n",
    "        if vizualize:\n",
    "            # import seaborn as sns\n",
    "            # sns.heatmap(df.isnull(), yticklabels=False, cbar=False, cmap='viridis')\n",
    "            # or an another package to display missing values graph\n",
    "            import missingno as msno \n",
    "            msno.matrix(df)\n",
    "\n",
    "        if side_by_side:\n",
    "            from IPython.display import display_html\n",
    "            space = \"\\xa0\" * 10\n",
    "            info_styler = df_info.style.set_table_attributes(\"style='display:inline'\").set_caption('DF Info')\n",
    "            df_styler = df.head().style.set_table_attributes(\"style='display:inline'\").set_caption('DF')\n",
    "            display_html(info_styler._repr_html_() + space + df_styler._repr_html_(),raw=True)            \n",
    "        else:\n",
    "            from IPython.core.display import HTML\n",
    "            display(HTML(df_info.to_html()))\n",
    "            if display_sample: display(HTML(df.head().to_html()))\n",
    "            \n",
    "    else:\n",
    "        print(\"Empty DataFrame\")\n"
   ]
  },
  {
   "cell_type": "code",
   "execution_count": 10,
   "id": "0cc1dce5-ba78-4ab7-954e-745d22291d2f",
   "metadata": {},
   "outputs": [
    {
     "name": "stdout",
     "output_type": "stream",
     "text": [
      "Rows: 7296 N Cols: 2\n"
     ]
    },
    {
     "data": {
      "text/html": [
       "<style  type=\"text/css\" >\n",
       "</style><table id=\"T_e0927_\" style='display:inline'><caption>DF Info</caption><thead>    <tr>        <th class=\"blank level0\" ></th>        <th class=\"col_heading level0 col0\" >cols</th>        <th class=\"col_heading level0 col1\" >data_types</th>        <th class=\"col_heading level0 col2\" >n_missing</th>        <th class=\"col_heading level0 col3\" >missing_pct</th>        <th class=\"col_heading level0 col4\" >n_unique</th>        <th class=\"col_heading level0 col5\" >uniq_vals</th>    </tr></thead><tbody>\n",
       "                <tr>\n",
       "                        <th id=\"T_e0927_level0_row0\" class=\"row_heading level0 row0\" >0</th>\n",
       "                        <td id=\"T_e0927_row0_col0\" class=\"data row0 col0\" >Time</td>\n",
       "                        <td id=\"T_e0927_row0_col1\" class=\"data row0 col1\" >datetime64[ns]</td>\n",
       "                        <td id=\"T_e0927_row0_col2\" class=\"data row0 col2\" >0</td>\n",
       "                        <td id=\"T_e0927_row0_col3\" class=\"data row0 col3\" >0.000000</td>\n",
       "                        <td id=\"T_e0927_row0_col4\" class=\"data row0 col4\" >7296</td>\n",
       "                        <td id=\"T_e0927_row0_col5\" class=\"data row0 col5\" >From: 03-Jan-2012 Till: 29-Dec-2012</td>\n",
       "            </tr>\n",
       "            <tr>\n",
       "                        <th id=\"T_e0927_level0_row1\" class=\"row_heading level0 row1\" >1</th>\n",
       "                        <td id=\"T_e0927_row1_col0\" class=\"data row1 col0\" >Demand (MLD)</td>\n",
       "                        <td id=\"T_e0927_row1_col1\" class=\"data row1 col1\" >float64</td>\n",
       "                        <td id=\"T_e0927_row1_col2\" class=\"data row1 col2\" >166</td>\n",
       "                        <td id=\"T_e0927_row1_col3\" class=\"data row1 col3\" >2.280000</td>\n",
       "                        <td id=\"T_e0927_row1_col4\" class=\"data row1 col4\" >6995</td>\n",
       "                        <td id=\"T_e0927_row1_col5\" class=\"data row1 col5\" >Min: 22 Max: 251 Mean: 113 Med: 109 Std: 33</td>\n",
       "            </tr>\n",
       "    </tbody></table>          <style  type=\"text/css\" >\n",
       "</style><table id=\"T_f736a_\" style='display:inline'><caption>DF</caption><thead>    <tr>        <th class=\"blank level0\" ></th>        <th class=\"col_heading level0 col0\" >Time</th>        <th class=\"col_heading level0 col1\" >Demand (MLD)</th>    </tr></thead><tbody>\n",
       "                <tr>\n",
       "                        <th id=\"T_f736a_level0_row0\" class=\"row_heading level0 row0\" >0</th>\n",
       "                        <td id=\"T_f736a_row0_col0\" class=\"data row0 col0\" >2012-01-03 00:00:00</td>\n",
       "                        <td id=\"T_f736a_row0_col1\" class=\"data row0 col1\" >108.811323</td>\n",
       "            </tr>\n",
       "            <tr>\n",
       "                        <th id=\"T_f736a_level0_row1\" class=\"row_heading level0 row1\" >1</th>\n",
       "                        <td id=\"T_f736a_row1_col0\" class=\"data row1 col0\" >2012-01-03 01:00:00</td>\n",
       "                        <td id=\"T_f736a_row1_col1\" class=\"data row1 col1\" >123.998979</td>\n",
       "            </tr>\n",
       "            <tr>\n",
       "                        <th id=\"T_f736a_level0_row2\" class=\"row_heading level0 row2\" >2</th>\n",
       "                        <td id=\"T_f736a_row2_col0\" class=\"data row2 col0\" >2012-01-03 02:00:00</td>\n",
       "                        <td id=\"T_f736a_row2_col1\" class=\"data row2 col1\" >133.331252</td>\n",
       "            </tr>\n",
       "            <tr>\n",
       "                        <th id=\"T_f736a_level0_row3\" class=\"row_heading level0 row3\" >3</th>\n",
       "                        <td id=\"T_f736a_row3_col0\" class=\"data row3 col0\" >2012-01-03 03:00:00</td>\n",
       "                        <td id=\"T_f736a_row3_col1\" class=\"data row3 col1\" >142.121897</td>\n",
       "            </tr>\n",
       "            <tr>\n",
       "                        <th id=\"T_f736a_level0_row4\" class=\"row_heading level0 row4\" >4</th>\n",
       "                        <td id=\"T_f736a_row4_col0\" class=\"data row4 col0\" >2012-01-03 04:00:00</td>\n",
       "                        <td id=\"T_f736a_row4_col1\" class=\"data row4 col1\" >138.773395</td>\n",
       "            </tr>\n",
       "    </tbody></table>"
      ]
     },
     "metadata": {},
     "output_type": "display_data"
    }
   ],
   "source": [
    "df = pd.read_csv(\"datasets/Hillsborough.csv\")\n",
    "df['Time'] = pd.to_datetime(df['Time'])\n",
    "df_info_func(df)"
   ]
  },
  {
   "cell_type": "code",
   "execution_count": 13,
   "id": "3bf70175-3f7d-46c0-a60d-eb7e91b7984a",
   "metadata": {},
   "outputs": [],
   "source": [
    "pd.infer_freq(df['Time'])"
   ]
  },
  {
   "cell_type": "code",
   "execution_count": 34,
   "id": "c690c824-6c75-4324-a6d7-098bac2babf1",
   "metadata": {},
   "outputs": [
    {
     "data": {
      "text/html": [
       "<div>\n",
       "<style scoped>\n",
       "    .dataframe tbody tr th:only-of-type {\n",
       "        vertical-align: middle;\n",
       "    }\n",
       "\n",
       "    .dataframe tbody tr th {\n",
       "        vertical-align: top;\n",
       "    }\n",
       "\n",
       "    .dataframe thead th {\n",
       "        text-align: right;\n",
       "    }\n",
       "</style>\n",
       "<table border=\"1\" class=\"dataframe\">\n",
       "  <thead>\n",
       "    <tr style=\"text-align: right;\">\n",
       "      <th></th>\n",
       "      <th>Time</th>\n",
       "      <th>Demand (MLD)</th>\n",
       "    </tr>\n",
       "  </thead>\n",
       "  <tbody>\n",
       "    <tr>\n",
       "      <th>0</th>\n",
       "      <td>2012-01-03 00:00:00</td>\n",
       "      <td>108.811323</td>\n",
       "    </tr>\n",
       "    <tr>\n",
       "      <th>1</th>\n",
       "      <td>2012-01-03 01:00:00</td>\n",
       "      <td>123.998979</td>\n",
       "    </tr>\n",
       "    <tr>\n",
       "      <th>2</th>\n",
       "      <td>2012-01-03 02:00:00</td>\n",
       "      <td>133.331252</td>\n",
       "    </tr>\n",
       "    <tr>\n",
       "      <th>3</th>\n",
       "      <td>2012-01-03 03:00:00</td>\n",
       "      <td>142.121897</td>\n",
       "    </tr>\n",
       "    <tr>\n",
       "      <th>4</th>\n",
       "      <td>2012-01-03 04:00:00</td>\n",
       "      <td>138.773395</td>\n",
       "    </tr>\n",
       "    <tr>\n",
       "      <th>7291</th>\n",
       "      <td>2012-12-29 19:00:00</td>\n",
       "      <td>121.705342</td>\n",
       "    </tr>\n",
       "    <tr>\n",
       "      <th>7292</th>\n",
       "      <td>2012-12-29 20:00:00</td>\n",
       "      <td>105.903189</td>\n",
       "    </tr>\n",
       "    <tr>\n",
       "      <th>7293</th>\n",
       "      <td>2012-12-29 21:00:00</td>\n",
       "      <td>86.954423</td>\n",
       "    </tr>\n",
       "    <tr>\n",
       "      <th>7294</th>\n",
       "      <td>2012-12-29 22:00:00</td>\n",
       "      <td>70.825465</td>\n",
       "    </tr>\n",
       "    <tr>\n",
       "      <th>7295</th>\n",
       "      <td>2012-12-29 23:00:00</td>\n",
       "      <td>91.368515</td>\n",
       "    </tr>\n",
       "  </tbody>\n",
       "</table>\n",
       "</div>"
      ],
      "text/plain": [
       "                    Time  Demand (MLD)\n",
       "0    2012-01-03 00:00:00    108.811323\n",
       "1    2012-01-03 01:00:00    123.998979\n",
       "2    2012-01-03 02:00:00    133.331252\n",
       "3    2012-01-03 03:00:00    142.121897\n",
       "4    2012-01-03 04:00:00    138.773395\n",
       "7291 2012-12-29 19:00:00    121.705342\n",
       "7292 2012-12-29 20:00:00    105.903189\n",
       "7293 2012-12-29 21:00:00     86.954423\n",
       "7294 2012-12-29 22:00:00     70.825465\n",
       "7295 2012-12-29 23:00:00     91.368515"
      ]
     },
     "execution_count": 34,
     "metadata": {},
     "output_type": "execute_result"
    }
   ],
   "source": [
    "df.sort_values(by='Time',inplace=True)\n",
    "df.head().append(df.tail())"
   ]
  },
  {
   "cell_type": "code",
   "execution_count": 29,
   "id": "d10bc32e-bf49-4f3d-980d-9ec49db512f5",
   "metadata": {},
   "outputs": [
    {
     "data": {
      "text/plain": [
       "array([nan,  0., 21., 19.,  2.])"
      ]
     },
     "execution_count": 29,
     "metadata": {},
     "output_type": "execute_result"
    }
   ],
   "source": [
    "(df['Time'] - df['Time'].shift(1)).dt.components.days.unique()"
   ]
  },
  {
   "cell_type": "code",
   "execution_count": 30,
   "id": "5e712083-33a7-4c5b-990e-2efaec99bd37",
   "metadata": {},
   "outputs": [
    {
     "data": {
      "text/plain": [
       "DatetimeIndex(['2012-01-03 00:00:00', '2012-01-03 01:00:00',\n",
       "               '2012-01-03 02:00:00', '2012-01-03 03:00:00',\n",
       "               '2012-01-03 04:00:00', '2012-01-03 05:00:00',\n",
       "               '2012-01-03 06:00:00', '2012-01-03 07:00:00',\n",
       "               '2012-01-03 08:00:00', '2012-01-03 09:00:00',\n",
       "               ...\n",
       "               '2012-12-29 14:00:00', '2012-12-29 15:00:00',\n",
       "               '2012-12-29 16:00:00', '2012-12-29 17:00:00',\n",
       "               '2012-12-29 18:00:00', '2012-12-29 19:00:00',\n",
       "               '2012-12-29 20:00:00', '2012-12-29 21:00:00',\n",
       "               '2012-12-29 22:00:00', '2012-12-29 23:00:00'],\n",
       "              dtype='datetime64[ns]', length=8688, freq='H')"
      ]
     },
     "execution_count": 30,
     "metadata": {},
     "output_type": "execute_result"
    }
   ],
   "source": [
    "pd.date_range(df['Time'].min(), df['Time'].max(), freq='h')"
   ]
  },
  {
   "cell_type": "code",
   "execution_count": null,
   "id": "65fd9752-5662-424d-99ae-0d1e89ec9aac",
   "metadata": {},
   "outputs": [],
   "source": [
    "df.apply(np.isreal).all(1)"
   ]
  },
  {
   "cell_type": "code",
   "execution_count": 16,
   "id": "8a72f2dd-defc-4da1-8770-62a8bc29be90",
   "metadata": {},
   "outputs": [
    {
     "data": {
      "text/plain": [
       "[<matplotlib.lines.Line2D at 0x1f9d99f8df0>]"
      ]
     },
     "execution_count": 16,
     "metadata": {},
     "output_type": "execute_result"
    },
    {
     "data": {
      "image/png": "[encoded data removed]",
      "text/plain": [
       "<Figure size 432x288 with 1 Axes>"
      ]
     },
     "metadata": {
      "needs_background": "light"
     },
     "output_type": "display_data"
    }
   ],
   "source": [
    "%matplotlib inline\n",
    "plt.plot('Time','Demand (MLD)',data=df)"
   ]
  }
 ],
 "metadata": {
  "kernelspec": {
   "display_name": "Python 3",
   "language": "python",
   "name": "python3"
  },
  "language_info": {
   "codemirror_mode": {
    "name": "ipython",
    "version": 3
   },
   "file_extension": ".py",
   "mimetype": "text/x-python",
   "name": "python",
   "nbconvert_exporter": "python",
   "pygments_lexer": "ipython3",
   "version": "3.8.8"
  }
 },
 "nbformat": 4,
 "nbformat_minor": 5
}
